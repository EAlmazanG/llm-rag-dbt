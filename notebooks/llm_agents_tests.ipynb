{
 "cells": [
  {
   "cell_type": "code",
   "execution_count": 1,
   "metadata": {},
   "outputs": [],
   "source": [
    "import pandas as pd\n",
    "import re\n",
    "import yaml\n",
    "import sqlparse\n",
    "import os\n",
    "import pandas as pd\n",
    "import numpy as np\n",
    "import requests\n",
    "from IPython.display import display, Markdown\n",
    "\n",
    "from langchain.vectorstores import Chroma\n",
    "from langchain_openai import OpenAIEmbeddings, ChatOpenAI"
   ]
  },
  {
   "cell_type": "code",
   "execution_count": 2,
   "metadata": {},
   "outputs": [],
   "source": [
    "def add_repo_root_path():\n",
    "    import os\n",
    "    import sys\n",
    "    repo_root = os.path.abspath(os.path.join(os.getcwd(), \"..\"))\n",
    "    if repo_root not in sys.path:\n",
    "        sys.path.append(repo_root)\n",
    "        \n",
    "add_repo_root_path()\n",
    "from src import generate_knowledge\n",
    "from src import create_rag_db\n",
    "from src import llm_chain_tools\n",
    "from src.enhanced_retriever import EnhancedRetriever"
   ]
  },
  {
   "cell_type": "code",
   "execution_count": 3,
   "metadata": {},
   "outputs": [],
   "source": [
    "pd.set_option('display.max_rows', 100)\n",
    "pd.set_option('display.max_columns', 50)\n",
    "#pd.set_option('display.width', None)\n",
    "#pd.set_option('display.max_colwidth', 10) "
   ]
  },
  {
   "cell_type": "markdown",
   "metadata": {},
   "source": [
    "### INIT"
   ]
  },
  {
   "cell_type": "code",
   "execution_count": 4,
   "metadata": {},
   "outputs": [],
   "source": [
    "generate_knowledge.add_repo_root_path()\n",
    "import openai_setup\n",
    "\n",
    "OPENAI_API_KEY = openai_setup.conf['key']\n",
    "OPENAI_PROJECT = openai_setup.conf['project']\n",
    "OPENAI_ORGANIZATION = openai_setup.conf['organization']\n",
    "DEFAULT_LLM_MODEL = \"gpt-4o-mini\"\n",
    "CHROMADB_DIRECTORY = '../chromadb'\n",
    "COLLECTION_NAME = \"my_chromadb\" \n",
    "\n",
    "import os\n",
    "os.environ[\"OPENAI_API_KEY\"] = OPENAI_API_KEY\n",
    "os.environ['OPENAI_MODEL_NAME'] = DEFAULT_LLM_MODEL\n"
   ]
  },
  {
   "cell_type": "code",
   "execution_count": 5,
   "metadata": {},
   "outputs": [],
   "source": [
    "langchain_openai_embeddings = OpenAIEmbeddings(openai_api_key=OPENAI_API_KEY, model=\"text-embedding-ada-002\")\n",
    "langchain_openai_llm = ChatOpenAI(model=DEFAULT_LLM_MODEL, temperature=0.1, openai_api_key=OPENAI_API_KEY, openai_organization = OPENAI_ORGANIZATION)"
   ]
  },
  {
   "cell_type": "code",
   "execution_count": 6,
   "metadata": {},
   "outputs": [
    {
     "name": "stdout",
     "output_type": "stream",
     "text": [
      "{'interpretation_agent': {'role': 'Request Interpreter\\n', 'goal': 'Interpret user requests related to dbt projects and translate them into actionable decisions. Use expertise in dbt, data modeling, and analytics engineering to determine the type of action required.\\n', 'backstory': \"You specialize in analyzing requests to identify whether the action involves adding a field, modifying an existing model, or retrieving specific information. Your goal is to provide concise and actionable outputs tailored to the user's needs.\\n\", 'verbose': True, 'allow_delegation': False}, 'evaluation_agent': {'role': 'Evaluation Specialist\\n', 'goal': 'Evaluate user requests related to dbt projects and provide concise, actionable insights and steps required to address the request. Leverage expertise in data modeling, dbt project structure, and dependency analysis to ensure accurate evaluations.\\n', 'backstory': 'You specialize in analyzing interpreted requests and breaking them down into specific, actionable tasks while considering dependencies, performance, documentation, and configuration impacts within the dbt project. The goal is to ensure efficient and effective implementations.\\n', 'verbose': True, 'allow_delegation': False}, 'lineage_agent': {'role': 'Lineage Analysis Agent\\n', 'goal': 'Determine the primary dbt model directly affected by the request and identify the scope of models (UP, DOWN, or ALL) that need to be considered for handling the request effectively.\\n', 'backstory': 'You are an expert in evaluating dbt model dependencies, analyzing lineage, and interpreting metadata to define the scope of the request.  Your expertise ensures precise and actionable recommendations for managing the relationships between dbt models and their impact.\\n', 'verbose': True, 'allow_delegation': False}, 'plan_agent': {'role': 'Planning Agent\\n', 'goal': 'Create a detailed, step-by-step plan for implementing requested changes in the dbt project based on the lineage analysis and retrieved context.\\n', 'backstory': \"You specialize in breaking down complex requests into actionable plans that ensure alignment with the dbt project's structure,  dependencies, and conventions, while preventing schema-breaking changes.\\n\", 'verbose': True, 'allow_delegation': False}, 'check_model_agent': {'role': \"Identify if the user's request explicitly mentions a specific model for retrieving information or implementing changes.\\n\", 'goal': 'To determine whether the requested model is directly identified in the input and return a \"detected\" or \"not detected\" status, including the identified model\\'s name if applicable.\\n', 'backstory': 'This agent acts as the entry point to the flow, verifying if the input request contains a direct reference to a model. It simplifies downstream processes by either passing the identified model or triggering the search phase.\\n', 'verbose': True, 'allow_delegation': False}, 'search_model_agent': {'role': 'Locate the most relevant model for the request by analyzing the lineage of models and matching the context provided in the request.\\n', 'goal': \"To identify the correct model based on the request's requirements and return its name or details for subsequent processing.\\n\", 'backstory': \"This agent is activated if no model is explicitly mentioned in the request. It leverages the project's lineage and relationships between models to find the one most aligned with the user's needs.\\n\", 'verbose': True, 'allow_delegation': False}, 'extract_info_agent': {'role': 'Retrieve and compile detailed information about a specific model and its dependencies based on repository documents and lineage.\\n', 'goal': \"To provide a comprehensive summary of the model's purpose, structure, dependencies, materialization type, and any additional relevant details.\\n\", 'backstory': 'This agent ensures that all relevant technical and contextual details about a model are extracted step-by-step, preparing the necessary information for evaluation or change processes.\\n', 'verbose': True, 'allow_delegation': False}, 'select_output_agent': {'role': 'Retrieve and compile detailed information about a specific model and its dependencies based on repository documents and lineage.\\n', 'goal': \"To provide a comprehensive summary of the model's purpose, structure, dependencies, materialization type, and any additional relevant details.\\n\", 'backstory': 'This agent ensures that all relevant technical and contextual details about a model are extracted step-by-step, preparing the necessary information for evaluation or change processes.\\n', 'verbose': True, 'allow_delegation': False}, 'solution_design_agent': {'role': \"Analyze the extracted information and determine if the user's request is for retrieving information or making changes to the model.\\n\", 'goal': 'To return a well-formatted response if the request is informational or forward the extracted information for change design if modifications are required.\\n', 'backstory': 'This agent bridges the informational and change branches of the flow. It ensures the extracted details are formatted for clear delivery or ready for the solution design phase.\\n', 'verbose': True, 'allow_delegation': False}}\n",
      "{'interpretation_task': {'description': \"Evaluate the user's request: {request} and based on the evaluation, determine the required action: 1) adding a field -> return ADD_COLUMN 2) modifying an existing model -> return MODIFY_MODEL 3) retrieving and returning specific information. -> return RETRIVE_INFO\\nReflect on the request and provide a concise plan for the approach: - If the action involves adding a field: Identify where the field is currently available, if provided. - Determine how to propagate the field through the necessary models or transformations to integrate it into the target model. - Consider the impact on related models and dependencies. - If the action involves modifying an existing model: Identify the specific changes required. - Assess how these changes affect the structure, relationships, and downstream dependencies of the model. - If the action involves retrieving or returning information: Identify the models containing the relevant data. - Analyze how these models are related, and determine the queries or transformations needed to extract the requested information.\\n\", 'expected_output': 'Return one of the following actions: - ADD_COLUMN - MODIFY_MODEL - RETRIEVE_INFO\\nReturn the required action from the three proposed, and a short explanation of the required work. REMEMBER: Provide no extra commentary or explanation, just the minimal information required,   return only useful information, no additional filler text or unnecessary explanations, get to the point.\\n'}, 'evaluation_task': {'description': \"Based on the interpretation of an expert dbt and problem interpreter:  {interpretation}\\nof the original request {request}\\nInclude only these topics if relevant: - Target models or files - Field existence - Documentation needs - Dependencies and relationships - Performance/design considerations - Tests - dbt project config - Code or logic generation\\nSummarize only the necessary actions, no filler. Think about all the considerations and steps required to handle this request effectively. Your evaluation could include the following actions: - Identify the target model or models: Analyze the dependency tree to locate the model where the change should occur. - Understand its upstream sources (seeds, sources or base models) - Understand downstream dependencies of the model. - Documentation: Assess if it's going to be necessary to add adjustments to the documentation, and which would be this changes. - Unique keys and IDs: Examine the available unique keys and identifiers in the initial, intermediate, and final models. - Decide how these can be used to integrate the field or establish relationships between models. - Check if the granularity of the model can be altered through the changes added. - Evaluate performance and design: Review the data pipeline from start to finish. - Decide where the change or addition would be most optimal in terms of performance, data modeling, and maintainability. - Project state and impact: Consider the current state of the dbt project and how the changes might affect the broader model chain. - Macros and seeds: Check if relevant macros or seed data exist that can help transform or derive the required field or model. - Tests: Identify existing tests for the field or model and determine whether new tests need to be added or adjusted to validate the changes. - dbt project configuration: Review the general configuration (e.g., variables, environments, conventions) in the dbt_project.yml file to ensure the changes align with project standards and won't disrupt the schema. - Code generation: fragments of SQL logic needed, including CTEs or columns. - Evaluate whether an intermediate model is necessary or if the logic can be handled within the existing pipeline. - Documentation generation: Specify the documentation needed for any fields, models, or logic added or updated as part of this request. Only the things to add or change.\\n\", 'expected_output': \"Provide a concise summary of the high-level tasks based on your analysis, with the reflection of each one of them to be prepared to completed in the next steps when context is provided. If you don't have the info to perform the action because it's necessary context of the project, code or the lineage of the models, don't answer it, in next steps context will be provide as input to answer it properly. Mark it as it's necessart the context to responde it, and only do the reflection part using your logic as dbt expert. No extra checks or steps that are not on this list, select only the needed actions for the request. Return only useful information, no additional filler text or unnecessary explanations, get to the point.\\n      \\nREMEMBER: Provide no extra commentary or explanation, just the minimal information required.\\n\"}, 'lineage_task': {'description': 'Based on this user request: {request}\\n, the dbt expert evaluation of the request: {evaluation}\\nand the retrieved context about the request,  {retrieved_context}\\n(remember the meaning of all the context data: CONTEXT INFO AND METADATA MEANING: - knowledge_type: Specifies whether the resource is about files within the dbt project configuration, or data models used in the pipeline. - name: Name of the file. - path: Path within the repository where the file or resource is located, relative to the project root. - source: The original dataset, from which the model or resource pulls its data. Only for the first layer of the model. - parents: dbt models  that serve as input dependencies for the current model or file. - children: dbt models that depend on this resource as an input for their logic or data processing. - config: Configuration parameters defined in the file, specifying behaviors, sort keys, materialization... - materialized: Indicates how the data model is materialized (e.g., as a table, view, or ephemeral model) in the pipeline. - is_snapshot: Boolean flag that identifies whether the file represents a snapshot dbt model. - model_category: The logical dbt categorization of the model inside the project, such as base, staging, intermediate, marts... - vertical: Business domain or vertical to which the resource belongs, such as e-commerce, finance, supply... - has_tests: Boolean flag indicating if there are tests associated with this resource in the model .yaml file or in the tests folder. - has_select_all_in_last_select: Specifies if the final SQL query in the file uses a SELECT * statement. So all columns of previous CTEs will be consider as output of the model. - has_group_by: Boolean flag indicating if the SQL code includes a GROUP BY clause for aggregating data. - is_filtered: Boolean flag that specifies whether the resource applies filters to its data with WHERE, HAVING, JOIN... - is_source_model: The model uses the source macro to extract the data from the dbt project sources. It belongs to the first layer of all dbt models. - is_seed: Specifies if the resource is a seed file. - is_end_model: Boolean flag identifying if this is a terminal model in the data pipeline, representing the final output. - is_macro: Boolean flag indicating if the file defines a macro, used for reusable logic across the project. It does not count macros ref to call other models or source to connect to sources. - is_test: Indicates whether the file is a test sql definition used for testing purposes of other dbt models. - macros: Name of the macros used in the dbt model if any. It does not count macros ref to call other models or source to connect to sources. - packages: List of external packages or dependencies required for the resource or project functionality. Only not None in the packages.yml\\trow. )\\nDETERMINE: - The primary dbt model directly affected (e.g., where a field is added, a modification is made, or information is requested). - Whether upstream models (UP), downstream models (DOWN), or both (ALL) are necessary to handle this request correctly.\\nConsider the following cases: 1. If a new field is added, specify the model where the field will be added and indicate UP for upstream models needed to populate the field. 2. If an existing field is modified, specify the model where the change occurs and indicate DOWN for downstream models affected by the change. 3. If information is requested, specify the model containing the requested information and indicate UP, DOWN, or ALL based on the context of the data needed. 4. If a field or model is removed, specify the model being affected and indicate DOWN for downstream dependencies impacted.\\n      \\n', 'expected_output': \"Return the following json format: {{'model':model name, 'scope':UP/DOWN/ALL}} REMEMBER: Provide no extra commentary or explanation, just the minimal information required.\\n\"}, 'plan_task': {'description': \"Based on this evaluation:  {evaluation}\\nof the user_request: {request}\\nThe analysis of the most impacted model and the part of the lineage that is affected or has related info  (UP = Upstream models(parent models)/DOWN = Downstream models(childen models)/ALL = both):  {lineage_analysis}\\nRETRIEVED CONTEXT:  {retrieved_context}\\nthe retrieved context, remember the meaning of all the context data: CONTEXT INFO AND METADATA MEANING: - knowledge_type: Specifies whether the resource is about files within the dbt project configuration, or data models used in the pipeline. - name: Name of the file. - path: Path within the repository where the file or resource is located, relative to the project root. - source: The original dataset, from which the model or resource pulls its data. Only for the first layer of the model. - parents: dbt models  that serve as input dependencies for the current model or file. - children: dbt models that depend on this resource as an input for their logic or data processing. - config: Configuration parameters defined in the file, specifying behaviors, sort keys, materialization... - materialized: Indicates how the data model is materialized (e.g., as a table, view, or ephemeral model) in the pipeline. - is_snapshot: Boolean flag that identifies whether the file represents a snapshot dbt model. - model_category: The logical dbt categorization of the model inside the project, such as base, staging, intermediate, marts... - vertical: Business domain or vertical to which the resource belongs, such as e-commerce, finance, supply... - has_tests: Boolean flag indicating if there are tests associated with this resource in the model .yaml file or in the tests folder. - has_select_all_in_last_select: Specifies if the final SQL query in the file uses a SELECT * statement. So all columns of previous CTEs will be consider as output of the model. - has_group_by: Boolean flag indicating if the SQL code includes a GROUP BY clause for aggregating data. - is_filtered: Boolean flag that specifies whether the resource applies filters to its data with WHERE, HAVING, JOIN... - is_source_model: The model uses the source macro to extract the data from the dbt project sources. It belongs to the first layer of all dbt models. - is_seed: Specifies if the resource is a seed file. - is_end_model: Boolean flag identifying if this is a terminal model in the data pipeline, representing the final output. - is_macro: Boolean flag indicating if the file defines a macro, used for reusable logic across the project. It does not count macros ref to call other models or source to connect to sources. - is_test: Indicates whether the file is a test sql definition used for testing purposes of other dbt models. - macros: Name of the macros used in the dbt model if any. It does not count macros ref to call other models or source to connect to sources. - packages: List of external packages or dependencies required for the resource or project functionality. Only not None in the packages.yml\\trow.\\nand the examples about the some of the sources and the seeds (if any): {retrieved_csv_sources_context}\\nCreate a detailed step-by-step plan of the changes required in the existing models or files within the repository. To implement the requested change accurately. 1. Ensure that you only refer to files, models, or fields that are explicitly mentioned in the retrieved information. 2. Do not invent new models, fields, or dependencies.  3. Focus on:\\n  - Identifying the exact files or models that need modifications, based on the retrieved context.\\n  - Specifying what changes should be made, such as adding fields, updating logic, or modifying relationships.\\n  - Highlighting any dependencies between models or files and describing how these should be handled.\\n  - Extract children or parent models affected.\\n  - If code fragments are provided in the retrieved context, incorporate them where applicable and explain their role.\\n  - If no specific code or file is mentioned in the retrieved information, state that no changes should be made to existing files.\\n  - Ensure the changes align with the dbt project's standards, such as conventions in `dbt_project.yml`, and do not introduce schema-breaking modifications.\\n\\n4. No extra checks or steps that are not on this list. 5. Provide precise and actionable recommendations, avoiding any assumptions beyond the retrieved information.\\n      \\n\", 'expected_output': 'Return a summary of all the process, with the reflection, plan and context and the changes tht are neeeded to perfor\\n      - The original request.\\n      - The interpretarion of the request.\\n      - The affected models with the info of the context and the lineage.\\n      - All the necceasry changes step by step with a clear and short explanaiton of why is needed.\\nReturn only useful information, no additional filler text or unnecessary explanations, get to the point. REMEMBER: Provide no extra commentary or explanation, just the minimal information required.\\n'}, 'check_model_task': {'description': 'Verify if the request explicitly mentions a model that requires information retrieval or changes. Request: {request} Current dbt lineage of the dbt project: {lineage}\\n', 'expected_output': 'A dict with \"status\", indicating whether a model was detected (\"DETECTED\" or \"NOT DETECTED\") and \"identified_model\" if applicable. The identified model must be ALWAYS one of the models of the dbt lineage.\\n'}, 'search_model_task': {'description': \"Locate the model most relevant to the user's request by analyzing lineage and matching the context.\\n\", 'expected_output': 'The name of the identified model and a brief summary of why it matches the request.\\n'}, 'extract_info_task': {'description': 'Retrieve all relevant technical and contextual information about the identified model, including dependencies, structure, and other details.\\n', 'expected_output': 'A detailed summary of the model, including its description, columns, materialization, lineage relationships, and other key details.\\n'}, 'select_output_task': {'description': 'Analyze the request to determine whether it requires informational output or changes and process the extracted information accordingly.\\n', 'expected_output': 'If informational: a formatted response with all relevant details.   If changes are required: structured data ready for the solution design phase.\\n'}, 'solution_design_task': {'description': 'Identify the primary model to modify and determine any secondary models affected by the requested changes, outlining the necessary updates for each.\\n', 'expected_output': 'A plan specifying the primary model for changes, the impacted secondary models, and the required updates for each model.'}}\n"
     ]
    }
   ],
   "source": [
    "def update_tasks_and_agents_config(files):\n",
    "    # Load configurations from YAML files\n",
    "    configs = {}\n",
    "    for config_type, file_path in files.items():\n",
    "        with open(file_path, 'r') as file:\n",
    "            configs[config_type] = yaml.safe_load(file)\n",
    "\n",
    "    # Assign loaded configurations to specific variables\n",
    "    agents_config = configs['agents']\n",
    "    tasks_config = configs['tasks']\n",
    "\n",
    "    print(agents_config)\n",
    "    print(tasks_config)\n",
    "    return agents_config, tasks_config\n",
    "\n",
    "files = {\n",
    "    'agents': '../config/agents.yml',\n",
    "    'tasks': '../config/tasks.yml'\n",
    "}\n",
    "agents_config, tasks_config = update_tasks_and_agents_config(files)"
   ]
  },
  {
   "cell_type": "code",
   "execution_count": 7,
   "metadata": {},
   "outputs": [],
   "source": [
    "from crewai import Agent, Task, Crew"
   ]
  },
  {
   "cell_type": "markdown",
   "metadata": {},
   "source": [
    "### TESTS"
   ]
  },
  {
   "cell_type": "markdown",
   "metadata": {},
   "source": [
    "#### Agents"
   ]
  },
  {
   "cell_type": "code",
   "execution_count": 8,
   "metadata": {},
   "outputs": [],
   "source": [
    "\n",
    "# Creating Agents\n",
    "interpretation_agent = Agent(\n",
    "  config=agents_config['interpretation_agent'],\n",
    ")\n",
    "\n",
    "evaluation_agent = Agent(\n",
    "  config=agents_config['evaluation_agent'],\n",
    ")\n",
    "\n",
    "lineage_agent = Agent(\n",
    "  config=agents_config['lineage_agent'],\n",
    ")\n",
    "\n",
    "plan_agent = Agent(\n",
    "  config=agents_config['plan_agent'],\n",
    ")"
   ]
  },
  {
   "cell_type": "code",
   "execution_count": 9,
   "metadata": {},
   "outputs": [],
   "source": [
    "# Creating Tasks\n",
    "interpretation_task = Task(\n",
    "  config=tasks_config['interpretation_task'],\n",
    "  agent=interpretation_agent\n",
    ")\n",
    "\n",
    "evaluation_task = Task(\n",
    "  config=tasks_config['evaluation_task'],\n",
    "  agent=evaluation_agent\n",
    ")\n",
    "\n",
    "lineage_task = Task(\n",
    "  config=tasks_config['lineage_task'],\n",
    "  agent=lineage_agent\n",
    ")\n",
    "\n",
    "plan_task = Task(\n",
    "  config=tasks_config['plan_task'],\n",
    "  agent=plan_agent\n",
    ")"
   ]
  },
  {
   "cell_type": "code",
   "execution_count": 10,
   "metadata": {},
   "outputs": [],
   "source": [
    "crew = Crew(\n",
    "  agents=[\n",
    "    interpretation_agent,\n",
    "    evaluation_agent\n",
    "  ],\n",
    "  tasks=[\n",
    "    interpretation_task,\n",
    "    evaluation_task\n",
    "  ],\n",
    "  verbose=True\n",
    ")"
   ]
  },
  {
   "cell_type": "code",
   "execution_count": null,
   "metadata": {},
   "outputs": [],
   "source": [
    "user_input = 'Give me all the information about the models related with customers'\n",
    "\n",
    "inputs = {\n",
    "  'request': user_input\n",
    "}\n",
    "\n",
    "# Run the crew\n",
    "result = crew.kickoff(\n",
    "  inputs=inputs\n",
    ")"
   ]
  },
  {
   "cell_type": "markdown",
   "metadata": {},
   "source": [
    "#### Flows"
   ]
  },
  {
   "cell_type": "code",
   "execution_count": 17,
   "metadata": {},
   "outputs": [],
   "source": [
    "import nest_asyncio\n",
    "nest_asyncio.apply()"
   ]
  },
  {
   "cell_type": "code",
   "execution_count": 12,
   "metadata": {},
   "outputs": [],
   "source": [
    "from crewai import Flow\n",
    "from crewai.flow.flow import listen, start\n",
    "\n",
    "class dbtChatFlow(Flow):\n",
    "    @start()\n",
    "    def interpret_prompt(self):\n",
    "        user_prompt = self.state[\"user_input\"]\n",
    "        print(user_prompt)\n",
    "        interpretation_result = crew.kickoff(inputs = {'request': user_prompt} )\n",
    "        self.state[\"interpretation_result\"] = interpretation_result\n",
    "        return interpretation_result\n",
    "\n",
    "    @listen(lambda state: \"interpretation_result\" in state)\n",
    "    def evaluate_interpretation(self):\n",
    "        interpretation_result = self.state.get(\"interpretation_result\")\n",
    "        evaluation_result = crew.agents[1].kickoff({\"request\": interpretation_result})\n",
    "        self.state[\"evaluation_result\"] = evaluation_result\n",
    "        return evaluation_result\n",
    "\n",
    "flow = dbtChatFlow()\n",
    "#flow.plot()"
   ]
  },
  {
   "cell_type": "code",
   "execution_count": null,
   "metadata": {},
   "outputs": [],
   "source": [
    "user_input = 'Give me all the information about the models related with customers'\n",
    "flow.kickoff(inputs={\"user_input\": user_input})"
   ]
  },
  {
   "cell_type": "markdown",
   "metadata": {},
   "source": [
    "### CREATE AGENT CHAIN"
   ]
  },
  {
   "cell_type": "markdown",
   "metadata": {},
   "source": [
    "#### Configure Prerequisites"
   ]
  },
  {
   "cell_type": "code",
   "execution_count": null,
   "metadata": {},
   "outputs": [],
   "source": [
    "from langchain_openai import ChatOpenAI\n",
    "\n",
    "loaded_vectorstore = Chroma(\n",
    "    collection_name=COLLECTION_NAME,\n",
    "    persist_directory=CHROMADB_DIRECTORY,\n",
    "    embedding_function=langchain_openai_embeddings\n",
    ")"
   ]
  },
  {
   "cell_type": "code",
   "execution_count": 10,
   "metadata": {},
   "outputs": [],
   "source": [
    "_, repo_name = generate_knowledge.extract_owner_and_repo('https://github.com/dbt-labs/jaffle-shop')\n",
    "dbt_models_df = pd.read_csv('../data/dbt_models_' + repo_name + '.csv')\n",
    "dbt_project_df = pd.read_csv('../data/dbt_project_' + repo_name + '.csv')\n",
    "dbt_repo_knowledge_df = create_rag_db.merge_dbt_models_and_project_dfs(dbt_models_df, dbt_project_df)"
   ]
  },
  {
   "cell_type": "code",
   "execution_count": 11,
   "metadata": {},
   "outputs": [],
   "source": [
    "retriever = EnhancedRetriever(vectorstore = loaded_vectorstore, embedding_function= langchain_openai_embeddings)\n",
    "\n",
    "query = \"give me all the models related with the dbt model orders\"\n",
    "final_context, top_documents = retriever.retrieve(query)"
   ]
  },
  {
   "cell_type": "markdown",
   "metadata": {},
   "source": [
    "#### Create agents, tasks and flow"
   ]
  },
  {
   "cell_type": "code",
   "execution_count": 12,
   "metadata": {},
   "outputs": [],
   "source": [
    "# Creating Agents\n",
    "interpretation_agent = Agent(\n",
    "  config=agents_config['interpretation_agent'],\n",
    ")\n",
    "\n",
    "evaluation_agent = Agent(\n",
    "  config=agents_config['evaluation_agent'],\n",
    ")\n",
    "\n",
    "lineage_agent = Agent(\n",
    "  config=agents_config['lineage_agent'],\n",
    ")\n",
    "\n",
    "plan_agent = Agent(\n",
    "  config=agents_config['plan_agent'],\n",
    ")"
   ]
  },
  {
   "cell_type": "code",
   "execution_count": 13,
   "metadata": {},
   "outputs": [],
   "source": [
    "# Creating Tasks\n",
    "interpretation_task = Task(\n",
    "  config=tasks_config['interpretation_task'],\n",
    "  agent=interpretation_agent\n",
    ")\n",
    "\n",
    "evaluation_task = Task(\n",
    "  config=tasks_config['evaluation_task'],\n",
    "  agent=evaluation_agent\n",
    ")\n",
    "\n",
    "lineage_task = Task(\n",
    "  config=tasks_config['lineage_task'],\n",
    "  agent=lineage_agent\n",
    ")\n",
    "\n",
    "plan_task = Task(\n",
    "  config=tasks_config['plan_task'],\n",
    "  agent=plan_agent\n",
    ")"
   ]
  },
  {
   "cell_type": "code",
   "execution_count": null,
   "metadata": {},
   "outputs": [],
   "source": [
    "interpretation_crew = Crew(agents = [interpretation_agent], tasks = [interpretation_task], verbose = True)\n",
    "evaluation_crew = Crew(agents = [evaluation_agent], tasks = [evaluation_task], verbose = True)\n",
    "lineage_crew = Crew(agents = [lineage_agent], tasks = [lineage_task], verbose = True)\n",
    "plan_crew = Crew(agents = [plan_agent], tasks = [plan_task], verbose = True)"
   ]
  },
  {
   "cell_type": "code",
   "execution_count": null,
   "metadata": {},
   "outputs": [],
   "source": [
    "import nest_asyncio\n",
    "nest_asyncio.apply()\n",
    "\n",
    "from crewai import Flow\n",
    "from crewai.flow.flow import listen, start\n",
    "\n",
    "class dbtChatFlow(Flow):\n",
    "    @start()\n",
    "    def interpret_prompt(self):\n",
    "        request = self.state[\"request\"]\n",
    "        interpretation = interpretation_crew.kickoff(inputs = {'request': request})\n",
    "        self.state[\"interpretation\"] = interpretation\n",
    "        return interpretation\n",
    "\n",
    "    @listen(interpret_prompt)\n",
    "    def evaluate_interpretation(self):\n",
    "        request = self.state[\"request\"]\n",
    "        interpretation = self.state.get(\"interpretation\")\n",
    "        evaluation = evaluation_crew.kickoff(inputs = {'request': request, \"interpretation\": interpretation})\n",
    "        self.state[\"evaluation\"] = evaluation\n",
    "        return evaluation\n",
    "    \n",
    "    @listen(evaluate_interpretation)\n",
    "    def retrieve_general_context_for_lineage_calculation(self):\n",
    "        request = self.state[\"request\"]\n",
    "        interpretation = self.state.get(\"interpretation\")\n",
    "        vectorstore = self.state[\"vectorstore\"]\n",
    "        embedding_function = self.state[\"embedding_function\"]\n",
    "        retriever = EnhancedRetriever(vectorstore = vectorstore, embedding_function= embedding_function)\n",
    "        retriever_input = \"\"\"\n",
    "            USER REQUEST: {request}\n",
    "            REQUEST FINALITY: {interpretation}\n",
    "        \"\"\"\n",
    "        retrieved_context, retrieved_documents = retriever.retrieve(retriever_input)\n",
    "        retrieved_context = \"\\n\".join([doc.page_content for doc in retrieved_documents if hasattr(doc, 'page_content')])\n",
    "        self.state[\"retrieved_context\"] = retrieved_context\n",
    "        return retrieved_context\n",
    "\n",
    "    @listen(retrieve_general_context_for_lineage_calculation)\n",
    "    def get_lineage(self):\n",
    "        request = self.state[\"request\"]\n",
    "        evaluation = self.state.get(\"evaluation\")\n",
    "        \n",
    "        retrieved_context = self.state.get(\"retrieved_context\")\n",
    "        lineage_analysis = lineage_crew.kickoff(inputs = {'request': request, 'evaluation': str(evaluation), 'retrieved_context':retrieved_context})\n",
    "        json_output = lineage_analysis.raw.replace(\"```json\", \"\").replace(\"```\", \"\").strip()\n",
    "        self.state[\"lineage_analysis\"] = eval(json_output)\n",
    "        return eval(json_output)\n",
    "    \n",
    "    @listen(get_lineage)\n",
    "    def get_lineage_documents(self):\n",
    "        lineage_analysis = self.state.get(\"lineage_analysis\")\n",
    "        vectorstore = self.state[\"vectorstore\"]\n",
    "        dbt_repo_knowledge_df = self.state[\"dbt_repo_knowledge_df\"]\n",
    "\n",
    "        model_name = lineage_analysis.get(\"model\")\n",
    "        scope = lineage_analysis.get(\"scope\", \"\").upper()\n",
    "\n",
    "        lineage_df = create_rag_db.plot_dbt_lineage(dbt_repo_knowledge_df)\n",
    "        affected_models = llm_chain_tools.get_affected_models(lineage_df, model_name)\n",
    "\n",
    "        if scope == \"UP\":\n",
    "            filtered_models = affected_models[\"upstream\"]\n",
    "        elif scope == \"DOWN\":\n",
    "            filtered_models = affected_models[\"downstream\"]\n",
    "        elif scope == \"ALL\":\n",
    "            filtered_models = affected_models[\"upstream\"] + affected_models[\"downstream\"]\n",
    "        filtered_models = list(set(f\"{model}.sql\" for model in filtered_models + [model_name]))\n",
    "        \n",
    "        documents = llm_chain_tools.extract_documents_from_vectorstore(vectorstore)\n",
    "        lineage_documents = llm_chain_tools.select_documents(documents, filtered_models)\n",
    "        self.state[\"lineage_documents\"] = lineage_documents\n",
    "        return lineage_documents\n",
    "\n",
    "    @listen(get_lineage_documents)\n",
    "    def retrieve_lineage_context(self):\n",
    "        lineage_documents = self.state.get(\"lineage_documents\")\n",
    "        embedding_function = self.state[\"embedding_function\"]\n",
    "        request = self.state[\"request\"]\n",
    "        interpretation = self.state.get(\"interpretation\")\n",
    "        evaluation = self.state.get(\"evaluation\")\n",
    "\n",
    "        retriever_documents = lineage_documents[\"retriever_documents\"]\n",
    "        csv_sources_documents = lineage_documents[\"csv_sources_documents\"]\n",
    "        yml_project_documents = lineage_documents[\"yml_project_documents\"]\n",
    "\n",
    "        # Create a new vectorstore with the filtered documents\n",
    "        new_vectorstore = Chroma.from_documents(retriever_documents, embedding_function)\n",
    "        \n",
    "        # Adjusted retriever\n",
    "        new_retriever = EnhancedRetriever(vectorstore = new_vectorstore, embedding_function = embedding_function)\n",
    "        retriever_input = \"\"\"\n",
    "            USER REQUEST: {request}\n",
    "            REQUEST FINALITY: {interpretation}\n",
    "            DBT EXPERT DEEP EVALUATION: {evaluation}\n",
    "        \"\"\"\n",
    "        retrieved_context, retrieved_documents = new_retriever.retrieve(retriever_input)\n",
    "        combined_documents =  yml_project_documents + retrieved_documents\n",
    "\n",
    "        retrieved_context = \"\\n\".join([doc.page_content for doc in combined_documents if hasattr(doc, 'page_content')])\n",
    "        retrieved_csv_sources_context = \"\\n\".join([doc.page_content for doc in csv_sources_documents if hasattr(doc, 'page_content')])\n",
    "\n",
    "        self.state[\"planning_retrieved_context\"] = retrieved_context\n",
    "        self.state[\"planning_retrieved_csv_sources_context\"] = retrieved_csv_sources_context\n",
    "        return retrieved_context\n",
    "    \n",
    "    @listen(retrieve_lineage_context)\n",
    "    def plan_changes(self):\n",
    "        request = self.state[\"request\"]\n",
    "        evaluation = self.state.get(\"evaluation\")\n",
    "        lineage_analysis = self.state.get(\"lineage_analysis\")\n",
    "        planning_retrieved_context = self.state.get(\"planning_retrieved_context\")\n",
    "        planning_retrieved_csv_sources_context = self.state.get(\"planning_retrieved_csv_sources_context\")\n",
    "\n",
    "        plan = plan_crew.kickoff(inputs = {'request': request, \"evaluation\": str(evaluation), \"lineage_analysis\": str(lineage_analysis), \"retrieved_context\": planning_retrieved_context,  \"retrieved_csv_sources_context\":planning_retrieved_csv_sources_context})\n",
    "        self.state[\"plan\"] = plan\n",
    "        return plan\n",
    "\n",
    "flow = dbtChatFlow()\n",
    "flow.plot()"
   ]
  },
  {
   "cell_type": "code",
   "execution_count": null,
   "metadata": {},
   "outputs": [],
   "source": [
    "user_input = 'Give me all the information about the models related with customers'\n",
    "result = flow.kickoff(inputs={\"request\": user_input, \"dbt_repo_knowledge_df\": dbt_repo_knowledge_df, \"vectorstore\": loaded_vectorstore, \"embedding_function\":langchain_openai_embeddings})"
   ]
  },
  {
   "cell_type": "code",
   "execution_count": null,
   "metadata": {},
   "outputs": [],
   "source": [
    "Markdown(result.raw)"
   ]
  },
  {
   "cell_type": "markdown",
   "metadata": {},
   "source": [
    "## ADVANCE CHAIN"
   ]
  },
  {
   "cell_type": "code",
   "execution_count": 8,
   "metadata": {},
   "outputs": [
    {
     "name": "stderr",
     "output_type": "stream",
     "text": [
      "/var/folders/hv/ckh3m6gn1sd45q2qctrqcwzh0000gn/T/ipykernel_21186/2115736363.py:3: LangChainDeprecationWarning: The class `Chroma` was deprecated in LangChain 0.2.9 and will be removed in 1.0. An updated version of the class exists in the :class:`~langchain-chroma package and should be used instead. To use it run `pip install -U :class:`~langchain-chroma` and import as `from :class:`~langchain_chroma import Chroma``.\n",
      "  loaded_vectorstore = Chroma(\n"
     ]
    }
   ],
   "source": [
    "from langchain_openai import ChatOpenAI\n",
    "\n",
    "loaded_vectorstore = Chroma(\n",
    "    collection_name=COLLECTION_NAME,\n",
    "    persist_directory=CHROMADB_DIRECTORY,\n",
    "    embedding_function=langchain_openai_embeddings\n",
    ")\n",
    "\n",
    "retriever = EnhancedRetriever(vectorstore = loaded_vectorstore, embedding_function= langchain_openai_embeddings)\n",
    "\n",
    "_, repo_name = generate_knowledge.extract_owner_and_repo('https://github.com/dbt-labs/jaffle-shop')\n",
    "dbt_models_df = pd.read_csv('../data/dbt_models_' + repo_name + '.csv')\n",
    "dbt_project_df = pd.read_csv('../data/dbt_project_' + repo_name + '.csv')\n",
    "dbt_repo_knowledge_df = create_rag_db.merge_dbt_models_and_project_dfs(dbt_models_df, dbt_project_df)"
   ]
  },
  {
   "cell_type": "markdown",
   "metadata": {},
   "source": [
    "#### Agents, tasks and crews"
   ]
  },
  {
   "cell_type": "code",
   "execution_count": 119,
   "metadata": {},
   "outputs": [
    {
     "name": "stdout",
     "output_type": "stream",
     "text": [
      "{'interpretation_agent': {'role': 'Request Interpreter\\n', 'goal': 'Interpret user requests related to dbt projects and translate them into actionable decisions. Use expertise in dbt, data modeling, and analytics engineering to determine the type of action required.\\n', 'backstory': \"You specialize in analyzing requests to identify whether the action involves adding a field, modifying an existing model, or retrieving specific information. Your goal is to provide concise and actionable outputs tailored to the user's needs.\\n\", 'verbose': True, 'allow_delegation': False}, 'evaluation_agent': {'role': 'Evaluation Specialist\\n', 'goal': 'Evaluate user requests related to dbt projects and provide concise, actionable insights and steps required to address the request. Leverage expertise in data modeling, dbt project structure, and dependency analysis to ensure accurate evaluations.\\n', 'backstory': 'You specialize in analyzing interpreted requests and breaking them down into specific, actionable tasks while considering dependencies, performance, documentation, and configuration impacts within the dbt project. The goal is to ensure efficient and effective implementations.\\n', 'verbose': True, 'allow_delegation': False}, 'lineage_agent': {'role': 'Lineage Analysis Agent\\n', 'goal': 'Determine the primary dbt model directly affected by the request and identify the scope of models (UP, DOWN, or ALL) that need to be considered for handling the request effectively.\\n', 'backstory': 'You are an expert in evaluating dbt model dependencies, analyzing lineage, and interpreting metadata to define the scope of the request.  Your expertise ensures precise and actionable recommendations for managing the relationships between dbt models and their impact.\\n', 'verbose': True, 'allow_delegation': False}, 'plan_agent': {'role': 'Planning Agent\\n', 'goal': 'Create a detailed, step-by-step plan for implementing requested changes in the dbt project based on the lineage analysis and retrieved context.\\n', 'backstory': \"You specialize in breaking down complex requests into actionable plans that ensure alignment with the dbt project's structure,  dependencies, and conventions, while preventing schema-breaking changes.\\n\", 'verbose': True, 'allow_delegation': False}, 'check_model_agent': {'role': \"Identify if the user's request explicitly mentions a specific model for retrieving information or implementing changes.\\n\", 'goal': 'To determine whether the requested model is directly identified in the input and return a \"detected\" or \"not detected\" status, including the identified model\\'s name if applicable.\\n', 'backstory': 'This agent acts as the entry point to the flow, verifying if the input request contains a direct reference to a model. It simplifies downstream processes by either passing the identified model or triggering the search phase.\\n', 'verbose': True, 'allow_delegation': False}, 'search_model_agent': {'role': 'Locate the most relevant model for the request by analyzing the lineage of models and matching the context provided in the request.\\n', 'goal': \"To identify the correct model based on the request's requirements and return its name or details for subsequent processing.\\n\", 'backstory': \"This agent is activated if no model is explicitly mentioned in the request. It leverages the project's lineage and relationships between models to find the one most aligned with the user's needs.\\n\", 'verbose': True, 'allow_delegation': False}, 'generate_info_report_agent': {'role': 'Retrieve and compile detailed information about a specific model and its dependencies based on repository documents and lineage.\\n', 'goal': \"To provide a comprehensive summary of the model's purpose, structure, dependencies, materialization type, and any additional relevant details.\\n\", 'backstory': 'This agent ensures that all relevant technical and contextual details about a model are extracted step-by-step, preparing the necessary information for evaluation or change processes.\\n', 'verbose': True, 'allow_delegation': False}, 'search_involved_models_agent': {'role': 'Analyze the dbt project lineage and identify all models (upstream and downstream) that require changes to ensure the consistency and functionality of the data pipeline when requested modifications are made to a primary model.\\n', 'goal': 'To determine the complete list of models impacted by the requested changes, including:\\n  - Downstream models where changes need to propagate (e.g., adding/removing fields).\\n  - Upstream models where required fields are missing and need to be added.\\nEnsure that the list of involved models is exhaustive and structured to facilitate further processing by downstream agents.\\n', 'backstory': 'This agent works within a dbt project context to ensure data integrity and consistency across the pipeline when changes are requested to a specific model. It uses the lineage of models to identify all impacted models and categorize them into upstream and downstream groups, enabling precise propagation of changes.\\n', 'verbose': True, 'allow_delegation': False}, 'solution_design_agent': {'role': \"Analyze the extracted information and determine if the user's request is for retrieving information or making changes to the model.\\n\", 'goal': 'To return a well-formatted response if the request is informational or forward the extracted information for change design if modifications are required.\\n', 'backstory': 'This agent bridges the informational and change branches of the flow. It ensures the extracted details are formatted for clear delivery or ready for the solution design phase.\\n', 'verbose': True, 'allow_delegation': False}}\n",
      "{'interpretation_task': {'description': \"Evaluate the user's request: {request} and based on the evaluation, determine the required action: 1) adding a field -> return ADD_COLUMN 2) modifying an existing model -> return MODIFY_MODEL 3) retrieving and returning specific information. -> return RETRIVE_INFO\\nReflect on the request and provide a concise plan for the approach: - If the action involves adding a field: Identify where the field is currently available, if provided. - Determine how to propagate the field through the necessary models or transformations to integrate it into the target model. - Consider the impact on related models and dependencies. - If the action involves modifying an existing model: Identify the specific changes required. - Assess how these changes affect the structure, relationships, and downstream dependencies of the model. - If the action involves retrieving or returning information: Identify the models containing the relevant data. - Analyze how these models are related, and determine the queries or transformations needed to extract the requested information.\\n\", 'expected_output': 'Return one of the following actions: - ADD_COLUMN - MODIFY_MODEL - RETRIEVE_INFO\\nReturn the required action from the three proposed. REMEMBER: Provide no extra commentary or explanation, just the minimal information required,  \\n'}, 'evaluation_task': {'description': \"Based on the interpretation of an expert dbt and problem interpreter:  {interpretation}\\nof the original request {request}\\nInclude only these topics if relevant: - Target models or files - Field existence - Documentation needs - Dependencies and relationships - Performance/design considerations - Tests - dbt project config - Code or logic generation\\nSummarize only the necessary actions, no filler. Think about all the considerations and steps required to handle this request effectively. Your evaluation could include the following actions: - Identify the target model or models: Analyze the dependency tree to locate the model where the change should occur. - Understand its upstream sources (seeds, sources or base models) - Understand downstream dependencies of the model. - Documentation: Assess if it's going to be necessary to add adjustments to the documentation, and which would be this changes. - Unique keys and IDs: Examine the available unique keys and identifiers in the initial, intermediate, and final models. - Decide how these can be used to integrate the field or establish relationships between models. - Check if the granularity of the model can be altered through the changes added. - Evaluate performance and design: Review the data pipeline from start to finish. - Decide where the change or addition would be most optimal in terms of performance, data modeling, and maintainability. - Project state and impact: Consider the current state of the dbt project and how the changes might affect the broader model chain. - Macros and seeds: Check if relevant macros or seed data exist that can help transform or derive the required field or model. - Tests: Identify existing tests for the field or model and determine whether new tests need to be added or adjusted to validate the changes. - dbt project configuration: Review the general configuration (e.g., variables, environments, conventions) in the dbt_project.yml file to ensure the changes align with project standards and won't disrupt the schema. - Code generation: fragments of SQL logic needed, including CTEs or columns. - Evaluate whether an intermediate model is necessary or if the logic can be handled within the existing pipeline. - Documentation generation: Specify the documentation needed for any fields, models, or logic added or updated as part of this request. Only the things to add or change.\\n\", 'expected_output': \"Provide a concise summary of the high-level tasks based on your analysis, with the reflection of each one of them to be prepared to completed in the next steps when context is provided. If you don't have the info to perform the action because it's necessary context of the project, code or the lineage of the models, don't answer it, in next steps context will be provide as input to answer it properly. Mark it as it's necessart the context to responde it, and only do the reflection part using your logic as dbt expert. No extra checks or steps that are not on this list, select only the needed actions for the request. Return only useful information, no additional filler text or unnecessary explanations, get to the point.\\n      \\nREMEMBER: Provide no extra commentary or explanation, just the minimal information required.\\n\"}, 'lineage_task': {'description': 'Based on this user request: {request}\\n, the dbt expert evaluation of the request: {evaluation}\\nand the retrieved context about the request,  {retrieved_context}\\n(remember the meaning of all the context data: CONTEXT INFO AND METADATA MEANING: - knowledge_type: Specifies whether the resource is about files within the dbt project configuration, or data models used in the pipeline. - name: Name of the file. - path: Path within the repository where the file or resource is located, relative to the project root. - source: The original dataset, from which the model or resource pulls its data. Only for the first layer of the model. - parents: dbt models  that serve as input dependencies for the current model or file. - children: dbt models that depend on this resource as an input for their logic or data processing. - config: Configuration parameters defined in the file, specifying behaviors, sort keys, materialization... - materialized: Indicates how the data model is materialized (e.g., as a table, view, or ephemeral model) in the pipeline. - is_snapshot: Boolean flag that identifies whether the file represents a snapshot dbt model. - model_category: The logical dbt categorization of the model inside the project, such as base, staging, intermediate, marts... - vertical: Business domain or vertical to which the resource belongs, such as e-commerce, finance, supply... - has_tests: Boolean flag indicating if there are tests associated with this resource in the model .yaml file or in the tests folder. - has_select_all_in_last_select: Specifies if the final SQL query in the file uses a SELECT * statement. So all columns of previous CTEs will be consider as output of the model. - has_group_by: Boolean flag indicating if the SQL code includes a GROUP BY clause for aggregating data. - is_filtered: Boolean flag that specifies whether the resource applies filters to its data with WHERE, HAVING, JOIN... - is_source_model: The model uses the source macro to extract the data from the dbt project sources. It belongs to the first layer of all dbt models. - is_seed: Specifies if the resource is a seed file. - is_end_model: Boolean flag identifying if this is a terminal model in the data pipeline, representing the final output. - is_macro: Boolean flag indicating if the file defines a macro, used for reusable logic across the project. It does not count macros ref to call other models or source to connect to sources. - is_test: Indicates whether the file is a test sql definition used for testing purposes of other dbt models. - macros: Name of the macros used in the dbt model if any. It does not count macros ref to call other models or source to connect to sources. - packages: List of external packages or dependencies required for the resource or project functionality. Only not None in the packages.yml\\trow. )\\nDETERMINE: - The primary dbt model directly affected (e.g., where a field is added, a modification is made, or information is requested). - Whether upstream models (UP), downstream models (DOWN), or both (ALL) are necessary to handle this request correctly.\\nConsider the following cases: 1. If a new field is added, specify the model where the field will be added and indicate UP for upstream models needed to populate the field. 2. If an existing field is modified, specify the model where the change occurs and indicate DOWN for downstream models affected by the change. 3. If information is requested, specify the model containing the requested information and indicate UP, DOWN, or ALL based on the context of the data needed. 4. If a field or model is removed, specify the model being affected and indicate DOWN for downstream dependencies impacted.\\n      \\n', 'expected_output': \"Return the following json format: {{'model':model name, 'scope':UP/DOWN/ALL}} REMEMBER: Provide no extra commentary or explanation, just the minimal information required.\\n\"}, 'plan_task': {'description': \"Based on this evaluation:  {evaluation}\\nof the user_request: {request}\\nThe analysis of the most impacted model and the part of the lineage that is affected or has related info  (UP = Upstream models(parent models)/DOWN = Downstream models(childen models)/ALL = both):  {lineage_analysis}\\nRETRIEVED CONTEXT:  {retrieved_context}\\nthe retrieved context, remember the meaning of all the context data: CONTEXT INFO AND METADATA MEANING: - knowledge_type: Specifies whether the resource is about files within the dbt project configuration, or data models used in the pipeline. - name: Name of the file. - path: Path within the repository where the file or resource is located, relative to the project root. - source: The original dataset, from which the model or resource pulls its data. Only for the first layer of the model. - parents: dbt models  that serve as input dependencies for the current model or file. - children: dbt models that depend on this resource as an input for their logic or data processing. - config: Configuration parameters defined in the file, specifying behaviors, sort keys, materialization... - materialized: Indicates how the data model is materialized (e.g., as a table, view, or ephemeral model) in the pipeline. - is_snapshot: Boolean flag that identifies whether the file represents a snapshot dbt model. - model_category: The logical dbt categorization of the model inside the project, such as base, staging, intermediate, marts... - vertical: Business domain or vertical to which the resource belongs, such as e-commerce, finance, supply... - has_tests: Boolean flag indicating if there are tests associated with this resource in the model .yaml file or in the tests folder. - has_select_all_in_last_select: Specifies if the final SQL query in the file uses a SELECT * statement. So all columns of previous CTEs will be consider as output of the model. - has_group_by: Boolean flag indicating if the SQL code includes a GROUP BY clause for aggregating data. - is_filtered: Boolean flag that specifies whether the resource applies filters to its data with WHERE, HAVING, JOIN... - is_source_model: The model uses the source macro to extract the data from the dbt project sources. It belongs to the first layer of all dbt models. - is_seed: Specifies if the resource is a seed file. - is_end_model: Boolean flag identifying if this is a terminal model in the data pipeline, representing the final output. - is_macro: Boolean flag indicating if the file defines a macro, used for reusable logic across the project. It does not count macros ref to call other models or source to connect to sources. - is_test: Indicates whether the file is a test sql definition used for testing purposes of other dbt models. - macros: Name of the macros used in the dbt model if any. It does not count macros ref to call other models or source to connect to sources. - packages: List of external packages or dependencies required for the resource or project functionality. Only not None in the packages.yml\\trow.\\nand the examples about the some of the sources and the seeds (if any): {retrieved_csv_sources_context}\\nCreate a detailed step-by-step plan of the changes required in the existing models or files within the repository. To implement the requested change accurately. 1. Ensure that you only refer to files, models, or fields that are explicitly mentioned in the retrieved information. 2. Do not invent new models, fields, or dependencies.  3. Focus on:\\n  - Identifying the exact files or models that need modifications, based on the retrieved context.\\n  - Specifying what changes should be made, such as adding fields, updating logic, or modifying relationships.\\n  - Highlighting any dependencies between models or files and describing how these should be handled.\\n  - Extract children or parent models affected.\\n  - If code fragments are provided in the retrieved context, incorporate them where applicable and explain their role.\\n  - If no specific code or file is mentioned in the retrieved information, state that no changes should be made to existing files.\\n  - Ensure the changes align with the dbt project's standards, such as conventions in `dbt_project.yml`, and do not introduce schema-breaking modifications.\\n\\n4. No extra checks or steps that are not on this list. 5. Provide precise and actionable recommendations, avoiding any assumptions beyond the retrieved information.\\n      \\n\", 'expected_output': 'Return a summary of all the process, with the reflection, plan and context and the changes tht are neeeded to perfor\\n      - The original request.\\n      - The interpretarion of the request.\\n      - The affected models with the info of the context and the lineage.\\n      - All the necceasry changes step by step with a clear and short explanaiton of why is needed.\\nReturn only useful information, no additional filler text or unnecessary explanations, get to the point. REMEMBER: Provide no extra commentary or explanation, just the minimal information required.\\n'}, 'check_model_task': {'description': 'Verify if the request explicitly mentions a model that requires information retrieval or changes. Request: {request} Current dbt lineage of the dbt project: {lineage}\\n', 'expected_output': 'A dict with \"status\", indicating whether a model was detected (\"DETECTED\" or \"NOT DETECTED\") and \"identified_model\" if applicable. The identified model must be ALWAYS one of the models of the dbt lineage.\\n'}, 'search_model_task': {'description': \"Locate the models most relevant to the user's request by analyzing lineage and matching the context. User request: {request} Main impacted models names: {impacted_models} Main impacted models details and code: {impacted_models_documents} Lineage of the impacted models: {lineage}\\n\", 'expected_output': 'The name of the identified model and a brief summary of why it matches the request.\\n'}, 'generate_info_report_task': {'description': 'Retrieve all relevant technical and contextual information about the request of the user, base on the information gather about the dbt model, including dependencies, structure, and other details, base on: Original user request: {request} Info extracted about the impacted model: {search_impacted_models_ouput} Additional documentation about the model: {impacted_models_documents}\\n', 'expected_output': \"Stick to always answering the user's request as the main subject of the reply. Don't create new information that is not available in the one that you have available, if the info does not exist, dont put it in the report. Only if needed, generate a detailed summary of the model, including its description, columns, materialization, lineage relationships, and other key details.\\n\"}, 'search_involved_models_task': {'description': \"Analyze the provided dbt lineage and identify all additional models (upstream and downstream) that need changes to maintain consistency when modifications are made to the primary model. You must give me the models indicated by the target, i.e:\\n - If I need for example the models whose code and context I have to take into account to make the changes in the main model or\\n - The models I have to modify to make the change in the main model in order not to break anything and that the changes are set correctly, for example:\\n    - Ensuring added fields propagate downstream to all dependent models.\\n    - Identifying and addressing missing fields in upstream models required by downstream models.\\n    - Ensuring removed fields are also deleted from all dependent models.\\nRemember that you cant invent information that you don't have context or evidence about. Inputs:\\n  - Target: \\n    {target}\\n  - Request, Original user request: \\n    {request}\\n  - Identified model, The primary model where changes are requested: \\n    {identified_model}\\n  - Model info, Information about impacted models from previous tasks: \\n    {search_impacted_models_ouput}\\n  - Lineage, The complete lineage DataFrame of the dbt project: \\n    {lineage_df}    \\n\", 'expected_output': 'The output will be a JSON file with the extracted information as in the example. Depending on what is specified in target, the file will contain the models: - If you specify models whose context is necessary to take into account when designing the changes, it will give only models found upstream that contain information and context necessary to design the solution, no models whose context is not necessary to implement the change.\\n  For example:\\n    - The direct parents of the target model being modified, as they provide necessary columns or calculations used in the change.\\n    - The model from which the new column originates (e.g., the original source system or staging model) and its direct upstream dependencies, up to the raw data source.\\n    - Models involved in a join within a new CTE to calculate additional metrics or dimensions.\\n    - Staging models providing data enrichment or formatting for the fields being added or changed in the target model.\\n- If you specify the models that need to be adjusted after making changes to the main model, you will return the models that need to be modified so that the changes to the main model are correct and the changes go as far as they need to go. Remember, only the models where adjustments need to be made.\\n  The changes can be made in upstream and downstream models, for example:\\n    - All downstream models that depend on the modified model, ensuring they include the new column or adjusted logic (e.g., reporting models or dashboards).\\n    - Intermediate models between the source and the target model, where the new column or calculation needs to propagate.\\n    - Aggregation models downstream that use the modified model to calculate final metrics or summaries.\\n    - Documentation models or validation models that need to be updated to account for the changes in schema or logic.\\n\\n\\nThe target model will not be included in either case.\\n - The json example in the first case:\\n    {\\n      \"upstream_models\": [\\n        {\\n          \"model_name\": \"<Model name>\",\\n          \"requirement\": [\"<Context needed from this model to ensure that the solution design for the request is 100% correct>\"]\\n        },\\n        {\\n          \"model_name\": \"<Model name>\",\\n          \"requirement\": [\"<Context needed from this model to ensure that the solution design for the request is 100% correct>\"]\\n        }, ...\\n      ]\\n    }\\n - The json example in the second case:\\n    {\\n      \"upstream_models\": [\\n        {\\n          \"model_name\": \"<Model name>\",\\n          \"requirement\": [\"<List of fields to add/remove/modify>\"]\\n        }, ...\\n      ],\\n      \"downstream_models\": [\\n        {\\n          \"model_name\": \"<Model name>\",\\n          \"requirement\": [\"<List of fields to add/remove/modify>\"]\\n        }, ...\\n      ]\\n    }\\n'}, 'solution_design_task': {'description': 'Identify the primary model to modify and determine any secondary models affected by the requested changes, outlining the necessary updates for each.\\n', 'expected_output': 'A plan specifying the primary model for changes, the impacted secondary models, and the required updates for each model.'}}\n"
     ]
    }
   ],
   "source": [
    "agents_config, tasks_config = update_tasks_and_agents_config(files)"
   ]
  },
  {
   "cell_type": "code",
   "execution_count": 120,
   "metadata": {},
   "outputs": [],
   "source": [
    "# Creating Agents\n",
    "check_model_agent = Agent(\n",
    "  config=agents_config['check_model_agent'],\n",
    ")\n",
    "\n",
    "search_model_agent = Agent(\n",
    "  config=agents_config['search_model_agent'],\n",
    ")\n",
    "\n",
    "interpretation_agent = Agent(\n",
    "  config=agents_config['interpretation_agent'],\n",
    ")\n",
    "\n",
    "generate_info_report_agent = Agent(\n",
    "  config=agents_config['generate_info_report_agent'],\n",
    ")\n",
    "\n",
    "search_involved_models_agent = Agent(\n",
    "  config=agents_config['search_involved_models_agent'],\n",
    ")\n",
    "\n",
    "\n",
    "\n",
    "solution_design_agent = Agent(\n",
    "  config=agents_config['solution_design_agent'],\n",
    ")\n",
    "\n",
    "\n"
   ]
  },
  {
   "cell_type": "code",
   "execution_count": 121,
   "metadata": {},
   "outputs": [],
   "source": [
    "# Creating Tasks\n",
    "check_model_task = Task(\n",
    "  config=tasks_config['check_model_task'],\n",
    "  agent=check_model_agent\n",
    ")\n",
    "\n",
    "search_model_task = Task(\n",
    "  config=tasks_config['search_model_task'],\n",
    "  agent=search_model_agent\n",
    ")\n",
    "\n",
    "interpretation_task = Task(\n",
    "  config=tasks_config['interpretation_task'],\n",
    "  agent=interpretation_agent\n",
    ")\n",
    "\n",
    "generate_info_report_task = Task(\n",
    "  config=tasks_config['generate_info_report_task'],\n",
    "  agent=generate_info_report_agent\n",
    ")\n",
    "\n",
    "search_involved_models_task = Task(\n",
    "  config=tasks_config['search_involved_models_task'],\n",
    "  agent=generate_info_report_agent\n",
    ")\n",
    "\n",
    "solution_design_task = Task(\n",
    "  config=tasks_config['solution_design_task'],\n",
    "  agent=solution_design_agent\n",
    ")\n",
    "\n",
    "\n"
   ]
  },
  {
   "cell_type": "code",
   "execution_count": 122,
   "metadata": {},
   "outputs": [
    {
     "name": "stderr",
     "output_type": "stream",
     "text": [
      "Overriding of current TracerProvider is not allowed\n",
      "Overriding of current TracerProvider is not allowed\n",
      "Overriding of current TracerProvider is not allowed\n",
      "Overriding of current TracerProvider is not allowed\n",
      "Overriding of current TracerProvider is not allowed\n",
      "Overriding of current TracerProvider is not allowed\n"
     ]
    }
   ],
   "source": [
    "check_model_crew = Crew(agents = [check_model_agent], tasks = [check_model_task], verbose = True)\n",
    "search_model_crew = Crew(agents = [search_model_agent], tasks = [search_model_task], verbose = True)\n",
    "interpretation_crew = Crew(agents = [interpretation_agent], tasks = [interpretation_task], verbose = True)\n",
    "generate_info_report_crew = Crew(agents = [generate_info_report_agent], tasks = [generate_info_report_task], verbose = True)\n",
    "search_involved_models_crew = Crew(agents = [search_involved_models_agent], tasks = [search_involved_models_task], verbose = True)\n",
    "\n",
    "solution_design_crew = Crew(agents = [solution_design_agent], tasks = [solution_design_task], verbose = True)\n"
   ]
  },
  {
   "cell_type": "markdown",
   "metadata": {},
   "source": [
    "#### Flow"
   ]
  },
  {
   "cell_type": "code",
   "execution_count": null,
   "metadata": {},
   "outputs": [
    {
     "name": "stdout",
     "output_type": "stream",
     "text": [
      "\u001b[1m\u001b[95m# Agent:\u001b[00m \u001b[1m\u001b[92mIdentify if the user's request explicitly mentions a specific model for retrieving information or implementing changes.\u001b[00m\n",
      "\u001b[95m## Task:\u001b[00m \u001b[92mVerify if the request explicitly mentions a model that requires information retrieval or changes. Request: I want to add a new column to the model orders that come from raw_orders, and have it available in customers Current dbt lineage of the dbt project:                model_name                source  \\\n",
      "0           stg_customers  [ecom.raw_customers]   \n",
      "1           stg_locations     [ecom.raw_stores]   \n",
      "2         stg_order_items      [ecom.raw_items]   \n",
      "3              stg_orders     [ecom.raw_orders]   \n",
      "4            stg_products   [ecom.raw_products]   \n",
      "5            stg_supplies   [ecom.raw_supplies]   \n",
      "6               customers                    []   \n",
      "7               locations                    []   \n",
      "8   metricflow_time_spine                    []   \n",
      "9             order_items                    []   \n",
      "10                 orders                    []   \n",
      "11               products                    []   \n",
      "12               supplies                    []   \n",
      "\n",
      "                                        parent_models          children_models  \n",
      "0                                                  []              [customers]  \n",
      "1                                                  []              [locations]  \n",
      "2                                                  []            [order_items]  \n",
      "3                                                  []    [order_items, orders]  \n",
      "4                                                  []  [order_items, products]  \n",
      "5                                                  []  [order_items, supplies]  \n",
      "6                             [stg_customers, orders]                       []  \n",
      "7                                     [stg_locations]                       []  \n",
      "8                                                  []                       []  \n",
      "9   [stg_order_items, stg_orders, stg_products, st...                 [orders]  \n",
      "10                          [stg_orders, order_items]              [customers]  \n",
      "11                                     [stg_products]                       []  \n",
      "12                                     [stg_supplies]                       []  \n",
      "\u001b[00m\n"
     ]
    }
   ],
   "source": [
    "import nest_asyncio\n",
    "nest_asyncio.apply()\n",
    "\n",
    "from crewai import Flow\n",
    "from crewai.flow.flow import listen, start, and_, or_, router\n",
    "\n",
    "class dbtChatFlow(Flow):\n",
    "\n",
    "    @start()\n",
    "    def check_model(self):\n",
    "        request = self.state[\"request\"]\n",
    "        dbt_repo_knowledge_df = self.state[\"dbt_repo_knowledge_df\"]\n",
    "\n",
    "        lineage_df = create_rag_db.calculate_dbt_lineage(dbt_repo_knowledge_df)\n",
    "        check_model_ouput = check_model_crew.kickoff(inputs = {\"request\": request, \"lineage\": str(lineage_df)})\n",
    "        check_model_ouput_json =  eval(check_model_ouput.raw.replace(\"```json\", \"\").replace(\"```\", \"\").strip())\n",
    "        \n",
    "        self.state[\"check_model_ouput\"] =check_model_ouput_json\n",
    "        return check_model_ouput_json\n",
    "\n",
    "    @listen(check_model)\n",
    "    def retrieve_search_models(self, check_model_ouput_json):\n",
    "        dbt_repo_knowledge_df = self.state[\"dbt_repo_knowledge_df\"]\n",
    "        vectorstore = self.state[\"vectorstore\"]\n",
    "\n",
    "        documents = llm_chain_tools.extract_documents_from_vectorstore(vectorstore)\n",
    "\n",
    "        if not isinstance(check_model_ouput_json['identified_model'], list):\n",
    "            identified_models = [check_model_ouput_json['identified_model']]\n",
    "        identified_model_names = list(set(f\"{model}.sql\" for model in identified_models))\n",
    "        identified_model_documents = [\n",
    "            doc for doc in documents\n",
    "            if hasattr(doc, 'metadata') and doc.metadata.get(\"name\") in identified_model_names\n",
    "        ]\n",
    "\n",
    "        lineage_df = create_rag_db.calculate_dbt_lineage(dbt_repo_knowledge_df)\n",
    "        identified_model_lineage = llm_chain_tools.get_affected_models(lineage_df, check_model_ouput_json['identified_model'])\n",
    "\n",
    "        self.state[\"identified_model_documents\"] =identified_model_documents\n",
    "        return identified_model_names, identified_model_lineage, identified_model_documents\n",
    "\n",
    "    @listen(retrieve_search_models)\n",
    "    def search_model(self, retrieved_search_models):\n",
    "        identified_model_names, identified_model_lineage, identified_model_documents = retrieved_search_models\n",
    "        request = self.state[\"request\"]\n",
    "        \n",
    "        search_impacted_models_ouput = search_model_crew.kickoff(\n",
    "            inputs={\n",
    "                \"request\": request,\n",
    "                \"lineage\": str(identified_model_lineage),\n",
    "                \"impacted_models\": identified_model_names,\n",
    "                \"impacted_models_documents\": str(identified_model_documents)\n",
    "            }\n",
    "        )\n",
    "        \n",
    "        self.state[\"search_impacted_models_ouput\"] = search_impacted_models_ouput\n",
    "        return search_impacted_models_ouput\n",
    "    \n",
    "    @listen(search_model)\n",
    "    def interpret_prompt(self):\n",
    "        request = self.state[\"request\"]\n",
    "\n",
    "        interpretation = interpretation_crew.kickoff(inputs = {'request': request})\n",
    "        self.state[\"interpretation\"] = interpretation\n",
    "        return interpretation\n",
    "\n",
    "    @router(interpret_prompt)\n",
    "    def select_required_ouput(self, interpretation):\n",
    "        if interpretation.raw == 'RETRIEVE_INFO':\n",
    "            return 'info'\n",
    "        else:\n",
    "            return 'code'\n",
    "\n",
    "    @listen('info')\n",
    "    def generate_info_report(self, search_impacted_models_ouput):\n",
    "        request = self.state[\"request\"]\n",
    "        identified_model_documents = self.state[\"identified_model_documents\"]\n",
    "        \n",
    "        generate_info_report_ouput = generate_info_report_crew.kickoff(\n",
    "            inputs={\n",
    "                \"request\": request,\n",
    "                \"search_impacted_models_ouput\": str(search_impacted_models_ouput),\n",
    "                \"impacted_models_documents\": str(identified_model_documents)\n",
    "            }\n",
    "        )\n",
    "\n",
    "        self.state[\"generate_info_report_ouput\"] = generate_info_report_ouput\n",
    "        return generate_info_report_ouput\n",
    "\n",
    "    @listen('code')\n",
    "    def search_needed_models_for_change(self, search_impacted_models_ouput):\n",
    "        request = self.state[\"request\"]\n",
    "        dbt_repo_knowledge_df = self.state[\"dbt_repo_knowledge_df\"]\n",
    "        check_model_ouput_json = self.state[\"check_model_ouput\"]\n",
    "\n",
    "        lineage_df = create_rag_db.calculate_dbt_lineage(dbt_repo_knowledge_df)\n",
    "        target = \"I need the models whose code and context I have to take into account to make the changes in the main model\"\n",
    "\n",
    "        search_needed_models_for_change_ouput = search_involved_models_crew.kickoff(\n",
    "            inputs={\n",
    "                \"target\": target,\n",
    "                \"request\": request,\n",
    "                \"identified_model\": str(check_model_ouput_json['identified_model']),\n",
    "                \"search_impacted_models_ouput\": str(search_impacted_models_ouput),\n",
    "                \"lineage_df\": str(lineage_df)\n",
    "            }\n",
    "        )\n",
    "        self.state[\"search_needed_models_for_change_ouput\"] = search_needed_models_for_change_ouput\n",
    "        return search_needed_models_for_change_ouput\n",
    "    \n",
    "    @listen('code')\n",
    "    def search_models_impacted_by_change(self, search_impacted_models_ouput):\n",
    "        request = self.state[\"request\"]\n",
    "        dbt_repo_knowledge_df = self.state[\"dbt_repo_knowledge_df\"]\n",
    "        check_model_ouput_json = self.state[\"check_model_ouput\"]\n",
    "\n",
    "        lineage_df = create_rag_db.calculate_dbt_lineage(dbt_repo_knowledge_df)\n",
    "        target = \"I need the models that are needed to adjust after making the changes in the main model, in order not to break anything and that the changes are set correctly\"\n",
    "\n",
    "        search_models_impacted_by_change_ouput = search_involved_models_crew.kickoff(\n",
    "            inputs={\n",
    "                \"target\": target,\n",
    "                \"request\": request,\n",
    "                \"identified_model\": str(check_model_ouput_json['identified_model']),\n",
    "                \"search_impacted_models_ouput\": str(search_impacted_models_ouput),\n",
    "                \"lineage_df\": str(lineage_df)\n",
    "            }\n",
    "        )\n",
    "        self.state[\"search_models_impacted_by_change_ouput\"] = search_models_impacted_by_change_ouput\n",
    "        return search_models_impacted_by_change_ouput\n",
    "\n",
    "    @listen(and_(search_models_impacted_by_change, search_needed_models_for_change))\n",
    "    def design_solution_main_model(self):\n",
    "        request = self.state[\"request\"]\n",
    "        search_needed_models_for_change_ouput = self.state[\"search_needed_models_for_change_ouput\"]\n",
    "        search_models_impacted_by_change_ouput = self.state[\"search_models_impacted_by_change_ouput\"]\n",
    "        print('search_needed_models_for_change_ouput: \\n' +  str(search_needed_models_for_change_ouput))\n",
    "        print('search_models_impacted_by_change_ouput: \\n' +  str(search_models_impacted_by_change_ouput))\n",
    "        design_solution_main_model_output = None\n",
    "        return design_solution_main_model_output\n",
    "\n",
    "flow = dbtChatFlow()\n",
    "\n",
    "user_input = \"I want to add a new column to the model orders that come from raw_orders, and have it available in customers\"\n",
    "result = flow.kickoff(inputs={\"request\": user_input, \"dbt_repo_knowledge_df\": dbt_repo_knowledge_df, \"vectorstore\": loaded_vectorstore, \"embedding_function\":langchain_openai_embeddings})\n",
    "result"
   ]
  },
  {
   "cell_type": "code",
   "execution_count": 124,
   "metadata": {},
   "outputs": [
    {
     "ename": "AttributeError",
     "evalue": "'NoneType' object has no attribute 'raw'",
     "output_type": "error",
     "traceback": [
      "\u001b[0;31m---------------------------------------------------------------------------\u001b[0m",
      "\u001b[0;31mAttributeError\u001b[0m                            Traceback (most recent call last)",
      "Cell \u001b[0;32mIn[124], line 1\u001b[0m\n\u001b[0;32m----> 1\u001b[0m Markdown(\u001b[43mresult\u001b[49m\u001b[38;5;241;43m.\u001b[39;49m\u001b[43mraw\u001b[49m)\n",
      "\u001b[0;31mAttributeError\u001b[0m: 'NoneType' object has no attribute 'raw'"
     ]
    }
   ],
   "source": [
    "Markdown(result.raw)"
   ]
  },
  {
   "cell_type": "code",
   "execution_count": 98,
   "metadata": {},
   "outputs": [
    {
     "data": {
      "text/plain": [
       "[{'model_name': 'stg_orders',\n",
       "  'required_changes': [\"Add 'new_column' from raw_orders\"]}]"
      ]
     },
     "execution_count": 98,
     "metadata": {},
     "output_type": "execute_result"
    }
   ],
   "source": [
    "eval(result.raw)[\"upstream_models\"]"
   ]
  }
 ],
 "metadata": {
  "kernelspec": {
   "display_name": "rag-env",
   "language": "python",
   "name": "python3"
  },
  "language_info": {
   "codemirror_mode": {
    "name": "ipython",
    "version": 3
   },
   "file_extension": ".py",
   "mimetype": "text/x-python",
   "name": "python",
   "nbconvert_exporter": "python",
   "pygments_lexer": "ipython3",
   "version": "3.10.16"
  }
 },
 "nbformat": 4,
 "nbformat_minor": 2
}
