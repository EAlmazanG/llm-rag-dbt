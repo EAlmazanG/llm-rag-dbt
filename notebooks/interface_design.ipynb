{
 "cells": [
  {
   "cell_type": "code",
   "execution_count": 1,
   "metadata": {},
   "outputs": [],
   "source": [
    "import pandas as pd\n",
    "import re\n",
    "import yaml\n",
    "import sqlparse\n",
    "import os\n",
    "import pandas as pd\n",
    "import numpy as np\n",
    "import requests\n",
    "from IPython.display import display, Markdown\n",
    "\n",
    "from langchain.vectorstores import Chroma\n",
    "from langchain_openai import OpenAIEmbeddings, ChatOpenAI"
   ]
  },
  {
   "cell_type": "code",
   "execution_count": 2,
   "metadata": {},
   "outputs": [],
   "source": [
    "def add_repo_root_path():\n",
    "    import os\n",
    "    import sys\n",
    "    repo_root = os.path.abspath(os.path.join(os.getcwd(), \"..\"))\n",
    "    if repo_root not in sys.path:\n",
    "        sys.path.append(repo_root)\n",
    "        \n",
    "add_repo_root_path()\n",
    "from src import generate_knowledge\n",
    "from src import create_rag_db\n",
    "from src import llm_chain_tools\n",
    "from src.enhanced_retriever import EnhancedRetriever"
   ]
  },
  {
   "cell_type": "code",
   "execution_count": 3,
   "metadata": {},
   "outputs": [],
   "source": [
    "pd.set_option('display.max_rows', 100)\n",
    "pd.set_option('display.max_columns', 50)\n",
    "#pd.set_option('display.width', None)\n",
    "#pd.set_option('display.max_colwidth', 10) "
   ]
  },
  {
   "cell_type": "code",
   "execution_count": 4,
   "metadata": {},
   "outputs": [],
   "source": [
    "generate_knowledge.add_repo_root_path()\n",
    "import openai_setup\n",
    "\n",
    "OPENAI_API_KEY = openai_setup.conf['key']\n",
    "OPENAI_PROJECT = openai_setup.conf['project']\n",
    "OPENAI_ORGANIZATION = openai_setup.conf['organization']\n",
    "DEFAULT_LLM_MODEL = \"gpt-4o-mini\"\n",
    "CHROMADB_DIRECTORY = '../chromadb'\n",
    "COLLECTION_NAME = \"my_chromadb\" \n",
    "\n",
    "import os\n",
    "os.environ[\"OPENAI_API_KEY\"] = OPENAI_API_KEY\n",
    "os.environ['OPENAI_MODEL_NAME'] = DEFAULT_LLM_MODEL"
   ]
  },
  {
   "cell_type": "code",
   "execution_count": 5,
   "metadata": {},
   "outputs": [],
   "source": [
    "langchain_openai_embeddings = OpenAIEmbeddings(openai_api_key=OPENAI_API_KEY, model=\"text-embedding-ada-002\")\n",
    "langchain_openai_llm = ChatOpenAI(model=DEFAULT_LLM_MODEL, temperature=0.1, openai_api_key=OPENAI_API_KEY, openai_organization = OPENAI_ORGANIZATION)"
   ]
  },
  {
   "cell_type": "code",
   "execution_count": 20,
   "metadata": {},
   "outputs": [],
   "source": [
    "from langchain_openai import ChatOpenAI\n",
    "\n",
    "loaded_vectorstore = Chroma(\n",
    "    collection_name=COLLECTION_NAME,\n",
    "    persist_directory=CHROMADB_DIRECTORY,\n",
    "    embedding_function=langchain_openai_embeddings\n",
    ")\n",
    "\n",
    "_, repo_name = generate_knowledge.extract_owner_and_repo('https://github.com/dbt-labs/jaffle-shop')\n",
    "dbt_models_df = pd.read_csv('../data/dbt_models_' + repo_name + '.csv')\n",
    "dbt_project_df = pd.read_csv('../data/dbt_project_' + repo_name + '.csv')\n",
    "dbt_repo_knowledge_df = create_rag_db.merge_dbt_models_and_project_dfs(dbt_models_df, dbt_project_df)\n",
    "\n",
    "import nest_asyncio\n",
    "nest_asyncio.apply()\n",
    "\n",
    "import importlib\n",
    "import src.llm_agents_flow\n",
    "importlib.reload(src.llm_agents_flow)\n",
    "from src.llm_agents_flow import dbtChatFlow\n",
    "\n",
    "files = {\n",
    "    'agents': '../config/agents.yml',\n",
    "    'tasks': '../config/tasks.yml'\n",
    "}"
   ]
  },
  {
   "cell_type": "code",
   "execution_count": null,
   "metadata": {},
   "outputs": [
    {
     "name": "stderr",
     "output_type": "stream",
     "text": [
      "Overriding of current TracerProvider is not allowed\n",
      "Overriding of current TracerProvider is not allowed\n",
      "Overriding of current TracerProvider is not allowed\n",
      "Overriding of current TracerProvider is not allowed\n",
      "Overriding of current TracerProvider is not allowed\n",
      "Overriding of current TracerProvider is not allowed\n",
      "Overriding of current TracerProvider is not allowed\n",
      "Overriding of current TracerProvider is not allowed\n",
      "Overriding of current TracerProvider is not allowed\n"
     ]
    },
    {
     "name": "stdout",
     "output_type": "stream",
     "text": [
      "Plot saved as crewai_flow.html\n",
      "\u001b[1m\u001b[95m# Agent:\u001b[00m \u001b[1m\u001b[92mIdentify if the user's request explicitly mentions a specific model for retrieving information or implementing changes.\u001b[00m\n",
      "\u001b[95m## Task:\u001b[00m \u001b[92mVerify if the request explicitly mentions a model that requires information retrieval or changes. Request: I want to add a new column 'overdue' to the model orders that come from raw_orders source, and have it available in customers. the overdue column is directly available in raw_orders, is not necessairy to calcylate it  Current dbt lineage of the dbt project:                model_name                source  \\\n",
      "0           stg_customers  [ecom.raw_customers]   \n",
      "1           stg_locations     [ecom.raw_stores]   \n",
      "2         stg_order_items      [ecom.raw_items]   \n",
      "3              stg_orders     [ecom.raw_orders]   \n",
      "4            stg_products   [ecom.raw_products]   \n",
      "5            stg_supplies   [ecom.raw_supplies]   \n",
      "6               customers                    []   \n",
      "7               locations                    []   \n",
      "8   metricflow_time_spine                    []   \n",
      "9             order_items                    []   \n",
      "10                 orders                    []   \n",
      "11               products                    []   \n",
      "12               supplies                    []   \n",
      "\n",
      "                                        parent_models          children_models  \n",
      "0                                                  []              [customers]  \n",
      "1                                                  []              [locations]  \n",
      "2                                                  []            [order_items]  \n",
      "3                                                  []    [order_items, orders]  \n",
      "4                                                  []  [order_items, products]  \n",
      "5                                                  []  [order_items, supplies]  \n",
      "6                             [stg_customers, orders]                       []  \n",
      "7                                     [stg_locations]                       []  \n",
      "8                                                  []                       []  \n",
      "9   [stg_order_items, stg_orders, stg_products, st...                 [orders]  \n",
      "10                          [stg_orders, order_items]              [customers]  \n",
      "11                                     [stg_products]                       []  \n",
      "12                                     [stg_supplies]                       []  \n",
      "\u001b[00m\n",
      "\n",
      "\n",
      "\u001b[1m\u001b[95m# Agent:\u001b[00m \u001b[1m\u001b[92mIdentify if the user's request explicitly mentions a specific model for retrieving information or implementing changes.\u001b[00m\n",
      "\u001b[95m## Final Answer:\u001b[00m \u001b[92m\n",
      "{\n",
      "    \"status\": \"DETECTED\",\n",
      "    \"identified_model\": \"orders\"\n",
      "}\u001b[00m\n",
      "\n",
      "\n",
      "\u001b[1m\u001b[95m# Agent:\u001b[00m \u001b[1m\u001b[92mLocate the most relevant model for the request by analyzing the lineage of models and matching the context provided in the request.\u001b[00m\n",
      "\u001b[95m## Task:\u001b[00m \u001b[92mLocate the models most relevant to the user's request by analyzing lineage and matching the context. User request: I want to add a new column 'overdue' to the model orders that come from raw_orders source, and have it available in customers. the overdue column is directly available in raw_orders, is not necessairy to calcylate it  Main impacted models names: ['orders.sql'] Main impacted models details and code: [Document(metadata={'children': \"['customers']\", 'has_group_by': True, 'has_select_all_in_last_select': True, 'has_tests': True, 'is_end_model': False, 'is_filtered': True, 'is_macro': '', 'is_seed': '', 'is_snapshot': False, 'is_source_model': False, 'is_test': '', 'knowledge_type': 'models', 'model_category': 'other', 'name': 'orders.sql', 'packages': '', 'parents': \"['stg_orders', 'order_items']\", 'path': 'models/marts/orders.sql', 'vertical': 'orders'}, page_content=\"<MODEL CODE>:\\n        .sql Code:\\n        WITH orders AS\\n  (SELECT *\\n   FROM {{ ref('stg_orders') }}),\\n     order_items AS\\n  (SELECT *\\n   FROM {{ ref('order_items') }}),\\n     order_items_summary AS\\n  (SELECT order_id,\\n          sum(supply_cost) AS order_cost,\\n          sum(product_price) AS order_items_subtotal,\\n          count(order_item_id) AS count_order_items,\\n          sum(CASE\\n                  WHEN is_food_item THEN 1\\n                  ELSE 0\\n              END) AS count_food_items,\"), Document(metadata={'children': \"['customers']\", 'has_group_by': True, 'has_select_all_in_last_select': True, 'has_tests': True, 'is_end_model': False, 'is_filtered': True, 'is_macro': '', 'is_seed': '', 'is_snapshot': False, 'is_source_model': False, 'is_test': '', 'knowledge_type': 'models', 'model_category': 'other', 'name': 'orders.sql', 'packages': '', 'parents': \"['stg_orders', 'order_items']\", 'path': 'models/marts/orders.sql', 'vertical': 'orders'}, page_content='ELSE 0\\n              END) AS count_food_items,\\n          sum(CASE\\n                  WHEN is_drink_item THEN 1\\n                  ELSE 0\\n              END) AS count_drink_items\\n   FROM order_items\\n   GROUP BY 1),\\n     compute_booleans AS\\n  (SELECT orders.*,\\n          order_items_summary.order_cost,\\n          order_items_summary.order_items_subtotal,\\n          order_items_summary.count_food_items,\\n          order_items_summary.count_drink_items,'), Document(metadata={'children': \"['customers']\", 'has_group_by': True, 'has_select_all_in_last_select': True, 'has_tests': True, 'is_end_model': False, 'is_filtered': True, 'is_macro': '', 'is_seed': '', 'is_snapshot': False, 'is_source_model': False, 'is_test': '', 'knowledge_type': 'models', 'model_category': 'other', 'name': 'orders.sql', 'packages': '', 'parents': \"['stg_orders', 'order_items']\", 'path': 'models/marts/orders.sql', 'vertical': 'orders'}, page_content='order_items_summary.count_food_items,\\n          order_items_summary.count_drink_items,\\n          order_items_summary.count_order_items,\\n          order_items_summary.count_food_items > 0 AS is_food_order,\\n          order_items_summary.count_drink_items > 0 AS is_drink_order\\n   FROM orders\\n   LEFT JOIN order_items_summary ON orders.order_id = order_items_summary.order_id),\\n     customer_order_count AS\\n  (SELECT *,\\n          row_number() OVER (PARTITION BY customer_id'), Document(metadata={'children': \"['customers']\", 'has_group_by': True, 'has_select_all_in_last_select': True, 'has_tests': True, 'is_end_model': False, 'is_filtered': True, 'is_macro': '', 'is_seed': '', 'is_snapshot': False, 'is_source_model': False, 'is_test': '', 'knowledge_type': 'models', 'model_category': 'other', 'name': 'orders.sql', 'packages': '', 'parents': \"['stg_orders', 'order_items']\", 'path': 'models/marts/orders.sql', 'vertical': 'orders'}, page_content='customer_order_count AS\\n  (SELECT *,\\n          row_number() OVER (PARTITION BY customer_id\\n                             ORDER BY ordered_at ASC) AS customer_order_number\\n   FROM compute_booleans)\\nSELECT *\\nFROM customer_order_count'), Document(metadata={'children': \"['customers']\", 'has_group_by': True, 'has_select_all_in_last_select': True, 'has_tests': True, 'is_end_model': False, 'is_filtered': True, 'is_macro': '', 'is_seed': '', 'is_snapshot': False, 'is_source_model': False, 'is_test': '', 'knowledge_type': 'models', 'model_category': 'other', 'name': 'orders.sql', 'packages': '', 'parents': \"['stg_orders', 'order_items']\", 'path': 'models/marts/orders.sql', 'vertical': 'orders'}, page_content='.yml Code:'), Document(metadata={'children': \"['customers']\", 'has_group_by': True, 'has_select_all_in_last_select': True, 'has_tests': True, 'is_end_model': False, 'is_filtered': True, 'is_macro': '', 'is_seed': '', 'is_snapshot': False, 'is_source_model': False, 'is_test': '', 'knowledge_type': 'models', 'model_category': 'other', 'name': 'orders.sql', 'packages': '', 'parents': \"['stg_orders', 'order_items']\", 'path': 'models/marts/orders.sql', 'vertical': 'orders'}, page_content='{\\'models\\': [{\\'name\\': \\'orders\\', \\'description\\': \"Order overview data mart, offering key details for each order inlcluding if it\\'s a customer\\'s first order and a food vs. drink item breakdown. One row per order.\", \\'data_tests\\': [{\\'dbt_utils.expression_is_true\\': {\\'expression\\': \\'order_items_subtotal = subtotal\\'}}, {\\'dbt_utils.expression_is_true\\': {\\'expression\\': \\'order_total = subtotal + tax_paid\\'}}], \\'columns\\': [{\\'name\\': \\'order_id\\', \\'description\\': \\'The unique key of the orders mart.\\','), Document(metadata={'children': \"['customers']\", 'has_group_by': True, 'has_select_all_in_last_select': True, 'has_tests': True, 'is_end_model': False, 'is_filtered': True, 'is_macro': '', 'is_seed': '', 'is_snapshot': False, 'is_source_model': False, 'is_test': '', 'knowledge_type': 'models', 'model_category': 'other', 'name': 'orders.sql', 'packages': '', 'parents': \"['stg_orders', 'order_items']\", 'path': 'models/marts/orders.sql', 'vertical': 'orders'}, page_content='tax_paid\\'}}], \\'columns\\': [{\\'name\\': \\'order_id\\', \\'description\\': \\'The unique key of the orders mart.\\', \\'data_tests\\': [\\'not_null\\', \\'unique\\']}, {\\'name\\': \\'customer_id\\', \\'description\\': \\'The foreign key relating to the customer who placed the order.\\', \\'data_tests\\': [{\\'relationships\\': {\\'to\\': \"ref(\\'stg_customers\\')\", \\'field\\': \\'customer_id\\'}}]}, {\\'name\\': \\'order_total\\', \\'description\\': \\'The total amount of the order in USD including tax.\\'}, {\\'name\\': \\'ordered_at\\', \\'description\\': \\'The timestamp the order was'), Document(metadata={'children': \"['customers']\", 'has_group_by': True, 'has_select_all_in_last_select': True, 'has_tests': True, 'is_end_model': False, 'is_filtered': True, 'is_macro': '', 'is_seed': '', 'is_snapshot': False, 'is_source_model': False, 'is_test': '', 'knowledge_type': 'models', 'model_category': 'other', 'name': 'orders.sql', 'packages': '', 'parents': \"['stg_orders', 'order_items']\", 'path': 'models/marts/orders.sql', 'vertical': 'orders'}, page_content=\"order in USD including tax.'}, {'name': 'ordered_at', 'description': 'The timestamp the order was placed at.'}, {'name': 'order_cost', 'description': 'The sum of supply expenses to fulfill the order.'}, {'name': 'is_food_order', 'description': 'A boolean indicating if this order included any food items.'}, {'name': 'is_drink_order', 'description': 'A boolean indicating if this order included any drink items.'}]}], 'unit_tests': [{'name': 'test_order_items_compute_to_bools_correctly',\"), Document(metadata={'children': \"['customers']\", 'has_group_by': True, 'has_select_all_in_last_select': True, 'has_tests': True, 'is_end_model': False, 'is_filtered': True, 'is_macro': '', 'is_seed': '', 'is_snapshot': False, 'is_source_model': False, 'is_test': '', 'knowledge_type': 'models', 'model_category': 'other', 'name': 'orders.sql', 'packages': '', 'parents': \"['stg_orders', 'order_items']\", 'path': 'models/marts/orders.sql', 'vertical': 'orders'}, page_content='any drink items.\\'}]}], \\'unit_tests\\': [{\\'name\\': \\'test_order_items_compute_to_bools_correctly\\', \\'description\\': \\'Test that the counts of drinks and food orders convert to booleans properly.\\', \\'model\\': \\'orders\\', \\'given\\': [{\\'input\\': \"ref(\\'order_items\\')\", \\'rows\\': [{\\'order_id\\': 1, \\'order_item_id\\': 1, \\'is_drink_item\\': False, \\'is_food_item\\': True}, {\\'order_id\\': 1, \\'order_item_id\\': 2, \\'is_drink_item\\': True, \\'is_food_item\\': False}, {\\'order_id\\': 2, \\'order_item_id\\': 3, \\'is_drink_item\\': False,'), Document(metadata={'children': \"['customers']\", 'has_group_by': True, 'has_select_all_in_last_select': True, 'has_tests': True, 'is_end_model': False, 'is_filtered': True, 'is_macro': '', 'is_seed': '', 'is_snapshot': False, 'is_source_model': False, 'is_test': '', 'knowledge_type': 'models', 'model_category': 'other', 'name': 'orders.sql', 'packages': '', 'parents': \"['stg_orders', 'order_items']\", 'path': 'models/marts/orders.sql', 'vertical': 'orders'}, page_content='True, \\'is_food_item\\': False}, {\\'order_id\\': 2, \\'order_item_id\\': 3, \\'is_drink_item\\': False, \\'is_food_item\\': True}]}, {\\'input\\': \"ref(\\'stg_orders\\')\", \\'rows\\': [{\\'order_id\\': 1}, {\\'order_id\\': 2}]}], \\'expect\\': {\\'rows\\': [{\\'order_id\\': 1, \\'count_food_items\\': 1, \\'count_drink_items\\': 1, \\'is_drink_order\\': True, \\'is_food_order\\': True}, {\\'order_id\\': 2, \\'count_food_items\\': 1, \\'count_drink_items\\': 0, \\'is_drink_order\\': False, \\'is_food_order\\': True}]}}], \\'semantic_models\\': [{\\'name\\': \\'orders\\', \\'defaults\\':'), Document(metadata={'children': \"['customers']\", 'has_group_by': True, 'has_select_all_in_last_select': True, 'has_tests': True, 'is_end_model': False, 'is_filtered': True, 'is_macro': '', 'is_seed': '', 'is_snapshot': False, 'is_source_model': False, 'is_test': '', 'knowledge_type': 'models', 'model_category': 'other', 'name': 'orders.sql', 'packages': '', 'parents': \"['stg_orders', 'order_items']\", 'path': 'models/marts/orders.sql', 'vertical': 'orders'}, page_content='False, \\'is_food_order\\': True}]}}], \\'semantic_models\\': [{\\'name\\': \\'orders\\', \\'defaults\\': {\\'agg_time_dimension\\': \\'ordered_at\\'}, \\'description\\': \\'Order fact table. This table is at the order grain with one row per order.\\\\n\\', \\'model\\': \"ref(\\'orders\\')\", \\'entities\\': [{\\'name\\': \\'order_id\\', \\'type\\': \\'primary\\'}, {\\'name\\': \\'location\\', \\'type\\': \\'foreign\\', \\'expr\\': \\'location_id\\'}, {\\'name\\': \\'customer\\', \\'type\\': \\'foreign\\', \\'expr\\': \\'customer_id\\'}], \\'dimensions\\': [{\\'name\\': \\'ordered_at\\', \\'expr\\': \\'ordered_at\\', \\'type\\':'), Document(metadata={'children': \"['customers']\", 'has_group_by': True, 'has_select_all_in_last_select': True, 'has_tests': True, 'is_end_model': False, 'is_filtered': True, 'is_macro': '', 'is_seed': '', 'is_snapshot': False, 'is_source_model': False, 'is_test': '', 'knowledge_type': 'models', 'model_category': 'other', 'name': 'orders.sql', 'packages': '', 'parents': \"['stg_orders', 'order_items']\", 'path': 'models/marts/orders.sql', 'vertical': 'orders'}, page_content=\"'expr': 'customer_id'}], 'dimensions': [{'name': 'ordered_at', 'expr': 'ordered_at', 'type': 'time', 'type_params': {'time_granularity': 'day'}}, {'name': 'order_total_dim', 'type': 'categorical', 'expr': 'order_total'}, {'name': 'is_food_order', 'type': 'categorical'}, {'name': 'is_drink_order', 'type': 'categorical'}, {'name': 'customer_order_number', 'type': 'categorical'}], 'measures': [{'name': 'order_total', 'description': 'The total amount for each order including taxes.', 'agg': 'sum'},\"), Document(metadata={'children': \"['customers']\", 'has_group_by': True, 'has_select_all_in_last_select': True, 'has_tests': True, 'is_end_model': False, 'is_filtered': True, 'is_macro': '', 'is_seed': '', 'is_snapshot': False, 'is_source_model': False, 'is_test': '', 'knowledge_type': 'models', 'model_category': 'other', 'name': 'orders.sql', 'packages': '', 'parents': \"['stg_orders', 'order_items']\", 'path': 'models/marts/orders.sql', 'vertical': 'orders'}, page_content=\"'order_total', 'description': 'The total amount for each order including taxes.', 'agg': 'sum'}, {'name': 'order_count', 'expr': 1, 'agg': 'sum'}, {'name': 'tax_paid', 'description': 'The total tax paid on each order.', 'agg': 'sum'}, {'name': 'order_cost', 'description': 'The cost for each order item. Cost is calculated as a sum of the supply cost for each order item.', 'agg': 'sum'}]}], 'metrics': [{'name': 'order_total', 'description': 'Sum of total order amonunt. Includes tax + revenue.',\"), Document(metadata={'children': \"['customers']\", 'has_group_by': True, 'has_select_all_in_last_select': True, 'has_tests': True, 'is_end_model': False, 'is_filtered': True, 'is_macro': '', 'is_seed': '', 'is_snapshot': False, 'is_source_model': False, 'is_test': '', 'knowledge_type': 'models', 'model_category': 'other', 'name': 'orders.sql', 'packages': '', 'parents': \"['stg_orders', 'order_items']\", 'path': 'models/marts/orders.sql', 'vertical': 'orders'}, page_content='[{\\'name\\': \\'order_total\\', \\'description\\': \\'Sum of total order amonunt. Includes tax + revenue.\\', \\'type\\': \\'simple\\', \\'label\\': \\'Order Total\\', \\'type_params\\': {\\'measure\\': \\'order_total\\'}}, {\\'name\\': \\'new_customer_orders\\', \\'description\\': \"New customer\\'s first order count\", \\'label\\': \\'New Customers\\', \\'type\\': \\'simple\\', \\'type_params\\': {\\'measure\\': \\'order_count\\'}, \\'filter\\': \"{{ Dimension(\\'order_id__customer_order_number\\') }} = 1\\\\n\"}, {\\'name\\': \\'large_orders\\', \\'description\\': \\'Count of orders with order total'), Document(metadata={'children': \"['customers']\", 'has_group_by': True, 'has_select_all_in_last_select': True, 'has_tests': True, 'is_end_model': False, 'is_filtered': True, 'is_macro': '', 'is_seed': '', 'is_snapshot': False, 'is_source_model': False, 'is_test': '', 'knowledge_type': 'models', 'model_category': 'other', 'name': 'orders.sql', 'packages': '', 'parents': \"['stg_orders', 'order_items']\", 'path': 'models/marts/orders.sql', 'vertical': 'orders'}, page_content='}} = 1\\\\n\"}, {\\'name\\': \\'large_orders\\', \\'description\\': \\'Count of orders with order total over 20.\\', \\'type\\': \\'simple\\', \\'label\\': \\'Large Orders\\', \\'type_params\\': {\\'measure\\': \\'order_count\\'}, \\'filter\\': \"{{ Dimension(\\'order_id__order_total_dim\\') }} >= 20\\\\n\"}, {\\'name\\': \\'orders\\', \\'description\\': \\'Count of orders.\\', \\'label\\': \\'Orders\\', \\'type\\': \\'simple\\', \\'type_params\\': {\\'measure\\': \\'order_count\\'}}, {\\'name\\': \\'food_orders\\', \\'description\\': \\'Count of orders that contain food order items\\', \\'label\\': \\'Food Orders\\','), Document(metadata={'children': \"['customers']\", 'has_group_by': True, 'has_select_all_in_last_select': True, 'has_tests': True, 'is_end_model': False, 'is_filtered': True, 'is_macro': '', 'is_seed': '', 'is_snapshot': False, 'is_source_model': False, 'is_test': '', 'knowledge_type': 'models', 'model_category': 'other', 'name': 'orders.sql', 'packages': '', 'parents': \"['stg_orders', 'order_items']\", 'path': 'models/marts/orders.sql', 'vertical': 'orders'}, page_content='\\'description\\': \\'Count of orders that contain food order items\\', \\'label\\': \\'Food Orders\\', \\'type\\': \\'simple\\', \\'type_params\\': {\\'measure\\': \\'order_count\\'}, \\'filter\\': \"{{ Dimension(\\'order_id__is_food_order\\') }} = true\\\\n\"}, {\\'name\\': \\'drink_orders\\', \\'description\\': \\'Count of orders that contain drink order items\\', \\'label\\': \\'Drink Orders\\', \\'type\\': \\'simple\\', \\'type_params\\': {\\'measure\\': \\'order_count\\'}, \\'filter\\': \"{{ Dimension(\\'order_id__is_drink_order\\') }} = true\\\\n\"}], \\'saved_queries\\': [{\\'name\\':'), Document(metadata={'children': \"['customers']\", 'has_group_by': True, 'has_select_all_in_last_select': True, 'has_tests': True, 'is_end_model': False, 'is_filtered': True, 'is_macro': '', 'is_seed': '', 'is_snapshot': False, 'is_source_model': False, 'is_test': '', 'knowledge_type': 'models', 'model_category': 'other', 'name': 'orders.sql', 'packages': '', 'parents': \"['stg_orders', 'order_items']\", 'path': 'models/marts/orders.sql', 'vertical': 'orders'}, page_content='\\'filter\\': \"{{ Dimension(\\'order_id__is_drink_order\\') }} = true\\\\n\"}], \\'saved_queries\\': [{\\'name\\': \\'order_metrics\\', \\'query_params\\': {\\'metrics\\': [\\'orders\\', \\'new_customer_orders\\', \\'order_total\\', \\'food_orders\\', \\'drink_orders\\'], \\'group_by\\': [\"TimeDimension(\\'metric_time\\', \\'day\\')\"]}, \\'exports\\': [{\\'name\\': \\'order_metrics\\', \\'config\\': {\\'export_as\\': \\'table\\'}}]}]}'), Document(metadata={'children': \"['customers']\", 'has_group_by': True, 'has_select_all_in_last_select': True, 'has_tests': True, 'is_end_model': False, 'is_filtered': True, 'is_macro': '', 'is_seed': '', 'is_snapshot': False, 'is_source_model': False, 'is_test': '', 'knowledge_type': 'models', 'model_category': 'other', 'name': 'orders.sql', 'packages': '', 'parents': \"['stg_orders', 'order_items']\", 'path': 'models/marts/orders.sql', 'vertical': 'orders'}, page_content=\"<MODEL INFO>\\n        Primary Key:\\n        order_id\\n\\n        IDS:\\n        ['order_item_id', 'customer_id', 'order_id']\\n\\n        Columns used to Filter the model throuhg JOINS, HAVING, WHERE...:\\n        ['orders.order_id = order_items_summary.order_id), customer_order_count as ']\"), Document(metadata={'children': \"['customers']\", 'has_group_by': True, 'has_select_all_in_last_select': True, 'has_tests': True, 'is_end_model': False, 'is_filtered': True, 'is_macro': '', 'is_seed': '', 'is_snapshot': False, 'is_source_model': False, 'is_test': '', 'knowledge_type': 'models', 'model_category': 'other', 'name': 'orders.sql', 'packages': '', 'parents': \"['stg_orders', 'order_items']\", 'path': 'models/marts/orders.sql', 'vertical': 'orders'}, page_content='Tests:\\n        {\\'columns\\': {\\'order_id\\': [\\'not_null\\', \\'unique\\'], \\'customer_id\\': [{\\'relationships\\': {\\'to\\': \"ref(\\'stg_customers\\')\", \\'field\\': \\'customer_id\\'}}]}, \\'unit_tests\\': [\\'test_order_items_compute_to_bools_correctly\\']}\\n\\n        Description for project files:\\n        N/A'), Document(metadata={'children': \"['customers']\", 'has_group_by': True, 'has_select_all_in_last_select': True, 'has_tests': True, 'is_end_model': False, 'is_filtered': True, 'is_macro': '', 'is_seed': '', 'is_snapshot': False, 'is_source_model': False, 'is_test': '', 'knowledge_type': 'models', 'model_category': 'other', 'name': 'orders.sql', 'packages': '', 'parents': \"['stg_orders', 'order_items']\", 'path': 'models/marts/orders.sql', 'vertical': 'orders'}, page_content='Description for project files:\\n        N/A\\n\\n        dbt Model description:\\n        \"Aggregates order data from the \\'stg_orders\\' and \\'order_items\\' tables, calculating total costs, item counts, and distinguishing between food and drink items. It joins these summaries to the orders, applying row numbering to track each customer\\'s order sequence.\"\\n\\n        Jinja inside the dbt model description:\\n        N/A\\n\\n        <MODEL DEPENDENCIES>:\\n        Downstream models:\\n        [\\'customers\\']'), Document(metadata={'children': \"['customers']\", 'has_group_by': True, 'has_select_all_in_last_select': True, 'has_tests': True, 'is_end_model': False, 'is_filtered': True, 'is_macro': '', 'is_seed': '', 'is_snapshot': False, 'is_source_model': False, 'is_test': '', 'knowledge_type': 'models', 'model_category': 'other', 'name': 'orders.sql', 'packages': '', 'parents': \"['stg_orders', 'order_items']\", 'path': 'models/marts/orders.sql', 'vertical': 'orders'}, page_content=\"<MODEL DEPENDENCIES>:\\n        Downstream models:\\n        ['customers']\\n\\n        Upstream models:\\n        ['stg_orders', 'order_items']\")] Lineage of the impacted models: {'upstream': ['ecom.raw_items', 'ecom.raw_orders', 'ecom.raw_products', 'ecom.raw_supplies', 'order_items', 'stg_order_items', 'stg_orders', 'stg_products', 'stg_supplies'], 'downstream': ['customers']}\n",
      "\u001b[00m\n"
     ]
    }
   ],
   "source": [
    "flow = dbtChatFlow(files)\n",
    "flow.plot()\n",
    "\n",
    "user_input = \"I want to add a new column 'overdue' to the model orders that come from raw_orders source, and have it available in customers. the overdue column is directly available in raw_orders, is not necessairy to calcylate it \"\n",
    "result = flow.kickoff(inputs={\"request\": user_input, \"dbt_repo_knowledge_df\": dbt_repo_knowledge_df, \"vectorstore\": loaded_vectorstore, \"embedding_function\":langchain_openai_embeddings})\n",
    "result"
   ]
  },
  {
   "cell_type": "markdown",
   "metadata": {},
   "source": [
    "### Test local model"
   ]
  },
  {
   "cell_type": "code",
   "execution_count": 8,
   "metadata": {},
   "outputs": [],
   "source": [
    "from crewai import LLM, Agent, Task, Crew\n",
    "\n",
    "local_llm = LLM(model=\"lm_studio/Llama-3.2-3B-Instruct-4bit\", base_url=\"http://127.0.0.1:1234/v1\", api_key=\"asdf\")"
   ]
  },
  {
   "cell_type": "code",
   "execution_count": null,
   "metadata": {},
   "outputs": [],
   "source": [
    "agent = Agent(\n",
    "    role=\"Data Analyst\",\n",
    "    goal=\"Analyze eCommerce sales data\",\n",
    "    backstory=\"Expert in data analytics with years of experience\",\n",
    "    llm=local_llm\n",
    ")\n",
    "\n",
    "task = Task(\n",
    "    description=\"Analyze sales trends from the last quarter and identify key insights.\",\n",
    "    agent=agent,\n",
    "    expected_output=\"A detailed report summarizing sales trends, key insights, and recommendations.\"\n",
    ")\n",
    "\n",
    "crew = Crew(\n",
    "    agents=[agent],\n",
    "    tasks=[task],\n",
    "    verbose=True\n",
    ")\n",
    "\n",
    "result = crew.kickoff() \n",
    "print(result)"
   ]
  },
  {
   "cell_type": "code",
   "execution_count": null,
   "metadata": {},
   "outputs": [],
   "source": [
    "local_flow = dbtChatFlow(custom_llm = local_llm)\n",
    "local_flow.plot()\n",
    "\n",
    "user_input = \"I want to add a new column 'overdue' to the model orders that come from raw_orders source, and have it available in customers. the overdue column is directly available in raw_orders, is not necessairy to calcylate it \"\n",
    "result = local_flow.kickoff(inputs={\"request\": user_input, \"dbt_repo_knowledge_df\": dbt_repo_knowledge_df, \"vectorstore\": loaded_vectorstore, \"embedding_function\":langchain_openai_embeddings})\n",
    "result"
   ]
  }
 ],
 "metadata": {
  "kernelspec": {
   "display_name": "rag-env",
   "language": "python",
   "name": "python3"
  },
  "language_info": {
   "codemirror_mode": {
    "name": "ipython",
    "version": 3
   },
   "file_extension": ".py",
   "mimetype": "text/x-python",
   "name": "python",
   "nbconvert_exporter": "python",
   "pygments_lexer": "ipython3",
   "version": "3.10.16"
  }
 },
 "nbformat": 4,
 "nbformat_minor": 2
}
