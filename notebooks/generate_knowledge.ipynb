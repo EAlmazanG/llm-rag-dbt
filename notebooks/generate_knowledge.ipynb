{
 "cells": [
  {
   "cell_type": "code",
   "execution_count": 48,
   "metadata": {},
   "outputs": [],
   "source": [
    "import pandas as pd\n",
    "import re\n",
    "\n",
    "import os\n",
    "import requests"
   ]
  },
  {
   "cell_type": "markdown",
   "metadata": {},
   "source": [
    "#### Extract repo elements"
   ]
  },
  {
   "cell_type": "code",
   "execution_count": null,
   "metadata": {},
   "outputs": [],
   "source": [
    "def extract_owner_and_repo(github_url):\n",
    "    try:\n",
    "        # Remove the base URL and split the rest\n",
    "        parts = github_url.replace(\"https://github.com/\", \"\").split(\"/\")\n",
    "        # Validate structure\n",
    "        if len(parts) >= 2:\n",
    "            owner = parts[0]\n",
    "            repo = parts[1]\n",
    "            return owner, repo\n",
    "        else:\n",
    "            raise ValueError(\"Invalid GitHub URL structure.\")\n",
    "    except Exception as e:\n",
    "        print(f\"Error: {e}\")\n",
    "        return None, None\n",
    "\n",
    "def list_local_repo_structure(repo_path):\n",
    "    paths = []\n",
    "    for root, dirs, files in os.walk(repo_path):\n",
    "        rel_dir = os.path.relpath(root, repo_path)\n",
    "        if rel_dir == '.':\n",
    "            rel_dir = ''\n",
    "        if rel_dir:\n",
    "            paths.append(rel_dir + '/')\n",
    "        for f in files:\n",
    "            file_path = f\"{rel_dir}/{f}\" if rel_dir else f\n",
    "            paths.append(file_path)\n",
    "    return paths\n",
    "\n",
    "def list_online_repo_structure(owner, repo):\n",
    "    url = f\"https://api.github.com/repos/{owner}/{repo}/contents/\"\n",
    "    stack = [(url, '')]\n",
    "    paths = []\n",
    "    while stack:\n",
    "        current_url, current_path = stack.pop()\n",
    "        response = requests.get(current_url)\n",
    "        if response.status_code == 200:\n",
    "            items = response.json()\n",
    "            for item in items:\n",
    "                if item['type'] == 'dir':\n",
    "                    paths.append(current_path + item['name'] + '/')\n",
    "                    stack.append((item['url'], current_path + item['name'] + '/'))\n",
    "                else:\n",
    "                    paths.append(current_path + item['name'])\n",
    "    return paths"
   ]
  },
  {
   "cell_type": "code",
   "execution_count": null,
   "metadata": {},
   "outputs": [],
   "source": [
    "def is_online_repo(path):\n",
    "    return path.startswith(\"http://\") or path.startswith(\"https://\")\n",
    "\n",
    "local_dbt_repo = ''\n",
    "online_dbt_repo = 'https://github.com/dbt-labs/jaffle-shop'\n",
    "\n",
    "# Use local repo?\n",
    "if False:\n",
    "    repo_path = local_dbt_repo\n",
    "else:\n",
    "    repo_path = online_dbt_repo\n",
    "\n",
    "is_online = is_online_repo(repo_path)\n",
    "if is_online:\n",
    "    owner, repo = extract_owner_and_repo(online_dbt_repo)\n",
    "    repo_elements = list_online_repo_structure(owner,repo)\n",
    "else:\n",
    "    repo_elements = list_local_repo_structure(local_dbt_repo)\n",
    "\n",
    "print(repo_elements)"
   ]
  },
  {
   "cell_type": "markdown",
   "metadata": {},
   "source": [
    "#### Select dbt elements"
   ]
  },
  {
   "cell_type": "code",
   "execution_count": null,
   "metadata": {},
   "outputs": [],
   "source": [
    "dbt_extensions = ['.sql', '.yml', '.yaml', '.csv']\n",
    "\n",
    "def select_dbt_elements_by_extension(dbt_extensions, repo_elements):\n",
    "    # Filter elements with relevant extensions\n",
    "    return [element for element in repo_elements if any(element.endswith(ext) for ext in dbt_extensions)]\n",
    "\n",
    "repo_dbt_elements = select_dbt_elements_by_extension(dbt_extensions, repo_elements)\n",
    "print(repo_dbt_elements)\n",
    "\n",
    "def select_dbt_models(dbt_extensions, repo_dbt_elements):\n",
    "    return [\n",
    "        element for element in repo_dbt_elements\n",
    "        if element.startswith('models/') and any(element.endswith(ext) for ext in dbt_extensions)\n",
    "    ]\n",
    "\n",
    "repo_dbt_models = select_dbt_models(dbt_extensions, repo_dbt_elements)\n",
    "print(repo_dbt_models)"
   ]
  },
  {
   "cell_type": "code",
   "execution_count": null,
   "metadata": {},
   "outputs": [],
   "source": [
    "dbt_config_elements = ['packages.yml', 'dbt_project.yml']"
   ]
  },
  {
   "cell_type": "code",
   "execution_count": null,
   "metadata": {},
   "outputs": [],
   "source": [
    "def generate_dbt_models_df(repo_dbt_models):\n",
    "    data = []\n",
    "    for path in repo_dbt_models:\n",
    "        name = os.path.basename(path)\n",
    "        extension = os.path.splitext(name)[1]\n",
    "        data.append({'path': path, 'name': name, 'extension': extension})\n",
    "    return pd.DataFrame(data)\n",
    "\n",
    "dbt_models_df = generate_dbt_models_df(repo_dbt_models)\n",
    "display(dbt_models_df)"
   ]
  },
  {
   "cell_type": "markdown",
   "metadata": {},
   "source": [
    "#### Add code"
   ]
  },
  {
   "cell_type": "code",
   "execution_count": null,
   "metadata": {},
   "outputs": [],
   "source": [
    "def get_base_url(repo_url):\n",
    "    if repo_url.startswith(\"https://github.com\"):\n",
    "        parts = repo_url.replace(\"https://github.com/\", \"\").split(\"/\")\n",
    "        owner, repo = parts[0], parts[1]\n",
    "        return f\"https://raw.githubusercontent.com/{owner}/{repo}/main\"\n",
    "    else:\n",
    "        raise ValueError(\"URL not valid.\")\n",
    "\n",
    "def extract_file_content(path, is_online = False, repo_base_url = None):\n",
    "    try:\n",
    "        if is_online:\n",
    "            # Build complete URL\n",
    "            file_url = f\"{repo_base_url}/{path}\" if repo_base_url else path\n",
    "            response = requests.get(file_url)\n",
    "            if response.status_code == 200:\n",
    "                return response.text\n",
    "            else:\n",
    "                return f\"Error: {response.status_code} {response.reason}\"\n",
    "        else:\n",
    "            # Read content\n",
    "            with open(path, 'r', encoding='utf-8') as file:\n",
    "                return file.read()\n",
    "    except Exception as e:\n",
    "        return f\"Error: {e}\"\n",
    "\n",
    "def add_code_column(df, is_online = False, repo_url = None):\n",
    "    if is_online:\n",
    "        repo_base_url = get_base_url(repo_url)\n",
    "    else:\n",
    "        repo_base_url = ''\n",
    "\n",
    "    df['code'] = df['path'].apply(lambda path: extract_file_content(path, is_online, repo_base_url))\n",
    "    return df\n",
    "\n",
    "dbt_models_df = add_code_column(dbt_models_df, is_online, online_dbt_repo)\n",
    "dbt_models_df.head(3)\n"
   ]
  },
  {
   "cell_type": "markdown",
   "metadata": {},
   "source": [
    "#### Add config block"
   ]
  },
  {
   "cell_type": "code",
   "execution_count": 56,
   "metadata": {},
   "outputs": [
    {
     "data": {
      "text/html": [
       "<div>\n",
       "<style scoped>\n",
       "    .dataframe tbody tr th:only-of-type {\n",
       "        vertical-align: middle;\n",
       "    }\n",
       "\n",
       "    .dataframe tbody tr th {\n",
       "        vertical-align: top;\n",
       "    }\n",
       "\n",
       "    .dataframe thead th {\n",
       "        text-align: right;\n",
       "    }\n",
       "</style>\n",
       "<table border=\"1\" class=\"dataframe\">\n",
       "  <thead>\n",
       "    <tr style=\"text-align: right;\">\n",
       "      <th></th>\n",
       "      <th>path</th>\n",
       "      <th>name</th>\n",
       "      <th>extension</th>\n",
       "      <th>code</th>\n",
       "      <th>config</th>\n",
       "    </tr>\n",
       "  </thead>\n",
       "  <tbody>\n",
       "    <tr>\n",
       "      <th>0</th>\n",
       "      <td>models/staging/__sources.yml</td>\n",
       "      <td>__sources.yml</td>\n",
       "      <td>.yml</td>\n",
       "      <td>version: 2\\n\\nsources:\\n  - name: ecom\\n    sc...</td>\n",
       "      <td>None</td>\n",
       "    </tr>\n",
       "    <tr>\n",
       "      <th>1</th>\n",
       "      <td>models/staging/stg_customers.sql</td>\n",
       "      <td>stg_customers.sql</td>\n",
       "      <td>.sql</td>\n",
       "      <td>with\\n\\nsource as (\\n\\n    select * from {{ so...</td>\n",
       "      <td>None</td>\n",
       "    </tr>\n",
       "    <tr>\n",
       "      <th>2</th>\n",
       "      <td>models/staging/stg_customers.yml</td>\n",
       "      <td>stg_customers.yml</td>\n",
       "      <td>.yml</td>\n",
       "      <td>models:\\n  - name: stg_customers\\n    descript...</td>\n",
       "      <td>None</td>\n",
       "    </tr>\n",
       "  </tbody>\n",
       "</table>\n",
       "</div>"
      ],
      "text/plain": [
       "                               path               name extension  \\\n",
       "0      models/staging/__sources.yml      __sources.yml      .yml   \n",
       "1  models/staging/stg_customers.sql  stg_customers.sql      .sql   \n",
       "2  models/staging/stg_customers.yml  stg_customers.yml      .yml   \n",
       "\n",
       "                                                code config  \n",
       "0  version: 2\\n\\nsources:\\n  - name: ecom\\n    sc...   None  \n",
       "1  with\\n\\nsource as (\\n\\n    select * from {{ so...   None  \n",
       "2  models:\\n  - name: stg_customers\\n    descript...   None  "
      ]
     },
     "execution_count": 56,
     "metadata": {},
     "output_type": "execute_result"
    }
   ],
   "source": [
    "def extract_config_block(sql_code):\n",
    "    pattern = r\"{{\\s*config\\((.*?)\\)\\s*}}\"\n",
    "    match = re.search(pattern, sql_code, re.DOTALL)\n",
    "    return match.group(0) if match else None\n",
    "\n",
    "def add_config_column(df):\n",
    "    df['config'] = df.apply(\n",
    "        lambda row: extract_config_block(row['code']) if row['extension'] == '.sql' else None,\n",
    "        axis=1\n",
    "    )\n",
    "    return df\n",
    "\n",
    "dbt_models_df = add_config_column(dbt_models_df)\n",
    "dbt_models_df.head(3)"
   ]
  },
  {
   "cell_type": "code",
   "execution_count": null,
   "metadata": {},
   "outputs": [],
   "source": []
  },
  {
   "cell_type": "code",
   "execution_count": null,
   "metadata": {},
   "outputs": [],
   "source": []
  }
 ],
 "metadata": {
  "kernelspec": {
   "display_name": "rag-env",
   "language": "python",
   "name": "python3"
  },
  "language_info": {
   "codemirror_mode": {
    "name": "ipython",
    "version": 3
   },
   "file_extension": ".py",
   "mimetype": "text/x-python",
   "name": "python",
   "nbconvert_exporter": "python",
   "pygments_lexer": "ipython3",
   "version": "3.9.20"
  }
 },
 "nbformat": 4,
 "nbformat_minor": 2
}
