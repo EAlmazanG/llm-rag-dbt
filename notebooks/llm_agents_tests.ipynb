{
 "cells": [
  {
   "cell_type": "code",
   "execution_count": 1,
   "metadata": {},
   "outputs": [],
   "source": [
    "import pandas as pd\n",
    "import re\n",
    "import yaml\n",
    "import sqlparse\n",
    "import os\n",
    "import pandas as pd\n",
    "import numpy as np\n",
    "import requests\n",
    "from IPython.display import display, Markdown\n",
    "\n",
    "from langchain.vectorstores import Chroma\n",
    "from langchain_openai import OpenAIEmbeddings, ChatOpenAI"
   ]
  },
  {
   "cell_type": "code",
   "execution_count": 2,
   "metadata": {},
   "outputs": [],
   "source": [
    "def add_repo_root_path():\n",
    "    import os\n",
    "    import sys\n",
    "    repo_root = os.path.abspath(os.path.join(os.getcwd(), \"..\"))\n",
    "    if repo_root not in sys.path:\n",
    "        sys.path.append(repo_root)\n",
    "        \n",
    "add_repo_root_path()\n",
    "from src import generate_knowledge\n",
    "from src import create_rag_db\n",
    "from src import llm_chain_tools"
   ]
  },
  {
   "cell_type": "code",
   "execution_count": 3,
   "metadata": {},
   "outputs": [],
   "source": [
    "pd.set_option('display.max_rows', 100)\n",
    "pd.set_option('display.max_columns', 50)\n",
    "#pd.set_option('display.width', None)\n",
    "#pd.set_option('display.max_colwidth', 10) "
   ]
  },
  {
   "cell_type": "markdown",
   "metadata": {},
   "source": [
    "### INIT"
   ]
  },
  {
   "cell_type": "code",
   "execution_count": 11,
   "metadata": {},
   "outputs": [],
   "source": [
    "generate_knowledge.add_repo_root_path()\n",
    "import openai_setup\n",
    "\n",
    "OPENAI_API_KEY = openai_setup.conf['key']\n",
    "OPENAI_PROJECT = openai_setup.conf['project']\n",
    "OPENAI_ORGANIZATION = openai_setup.conf['organization']\n",
    "DEFAULT_LLM_MODEL = \"gpt-4o-mini\"\n",
    "\n",
    "import os\n",
    "os.environ[\"OPENAI_API_KEY\"] = OPENAI_API_KEY\n",
    "os.environ['OPENAI_MODEL_NAME'] = DEFAULT_LLM_MODEL\n"
   ]
  },
  {
   "cell_type": "code",
   "execution_count": 5,
   "metadata": {},
   "outputs": [],
   "source": [
    "langchain_openai_embeddings = OpenAIEmbeddings(openai_api_key=OPENAI_API_KEY, model=\"text-embedding-ada-002\")\n",
    "langchain_openai_llm = ChatOpenAI(model=DEFAULT_LLM_MODEL, temperature=0.1, openai_api_key=OPENAI_API_KEY, openai_organization = OPENAI_ORGANIZATION)"
   ]
  },
  {
   "cell_type": "markdown",
   "metadata": {},
   "source": [
    "### TESTS"
   ]
  },
  {
   "cell_type": "markdown",
   "metadata": {},
   "source": [
    "#### Agents"
   ]
  },
  {
   "cell_type": "code",
   "execution_count": 6,
   "metadata": {},
   "outputs": [
    {
     "name": "stdout",
     "output_type": "stream",
     "text": [
      "{'interpretation_agent': {'role': 'Request Interpreter\\n', 'goal': 'Interpret user requests related to dbt projects and translate them into actionable decisions. Use expertise in dbt, data modeling, and analytics engineering to determine the type of action required.\\n', 'backstory': \"You specialize in analyzing requests to identify whether the action involves adding a field, modifying an existing model, or retrieving specific information. Your goal is to provide concise and actionable outputs tailored to the user's needs.\\n\", 'verbose': True, 'allow_delegation': False}, 'evaluation_agent': {'role': 'Evaluation Specialist\\n', 'goal': 'Evaluate user requests related to dbt projects and provide concise, actionable insights and steps required to address the request. Leverage expertise in data modeling, dbt project structure, and dependency analysis to ensure accurate evaluations.\\n', 'backstory': 'You specialize in analyzing interpreted requests and breaking them down into specific, actionable tasks while considering dependencies, performance, documentation, and configuration impacts within the dbt project. The goal is to ensure efficient and effective implementations.\\n', 'verbose': True, 'allow_delegation': False}}\n",
      "{'interpretation_task': {'description': \"Evaluate the user's request: {request} and determine the required action: - Adding a field: Identify where the field is currently available (if provided),\\n  determine how to propagate it through necessary models or transformations,\\n  and assess the impact on related models and dependencies.\\n- Modifying an existing model: Identify specific changes needed, evaluate the\\n  impact on structure, relationships, and downstream dependencies.\\n- Retrieving specific information: Identify models containing relevant data,\\n  analyze relationships, and determine queries or transformations needed.\\n\\nReflect on the request to generate a concise plan for the approach and provide a clear summary of the required action and its implications.\\n\", 'expected_output': 'Return one of the following actions: - ADD_COLUMN - MODIFY_MODEL - RETRIVE_INFO\\nAdditionally, include a short explanation of the work required for the action. The output should be minimal and focused, avoiding extra commentary or filler text.\\n'}, 'evaluation_task': {'description': 'Evaluate the interpretation of the user request and determine the necessary steps to handle it effectively.  Include only relevant considerations based on the following topics: - Target models or files - Field existence - Documentation needs - Dependencies and relationships - Performance/design considerations - Tests - dbt project config - Code or logic generation\\nPossible actions and considerations may include: - Identifying the target models or files affected by the request. - Analyzing upstream and downstream dependencies to locate the change points. - Assessing the need for adjustments in documentation, tests, or configuration files. - Evaluating performance impacts and ensuring maintainability. - Generating necessary SQL logic fragments (e.g., CTEs, columns). - Determining if an intermediate model is required for the changes. - Highlighting potential granularity changes or unique key impacts.\\n', 'expected_output': 'A concise summary of the high-level tasks required to fulfill the request. If additional context (e.g., project structure or lineage) is needed, clearly state this and provide only reflections based on the given information.\\nAvoid filler text or unnecessary explanations, and focus exclusively on actionable insights.'}}\n"
     ]
    }
   ],
   "source": [
    "# Define file paths for YAML configurations\n",
    "files = {\n",
    "    'agents': '../config/agents.yml',\n",
    "    'tasks': '../config/tasks.yml'\n",
    "}\n",
    "\n",
    "# Load configurations from YAML files\n",
    "configs = {}\n",
    "for config_type, file_path in files.items():\n",
    "    with open(file_path, 'r') as file:\n",
    "        configs[config_type] = yaml.safe_load(file)\n",
    "\n",
    "# Assign loaded configurations to specific variables\n",
    "agents_config = configs['agents']\n",
    "tasks_config = configs['tasks']\n",
    "\n",
    "print(agents_config)\n",
    "print(tasks_config)"
   ]
  },
  {
   "cell_type": "code",
   "execution_count": 12,
   "metadata": {},
   "outputs": [],
   "source": [
    "from crewai import Agent, Task, Crew"
   ]
  },
  {
   "cell_type": "code",
   "execution_count": 13,
   "metadata": {},
   "outputs": [
    {
     "name": "stderr",
     "output_type": "stream",
     "text": [
      "WARNING:opentelemetry.trace:Overriding of current TracerProvider is not allowed\n"
     ]
    }
   ],
   "source": [
    "\n",
    "# Creating Agents\n",
    "interpretation_agent = Agent(\n",
    "  config=agents_config['interpretation_agent'],\n",
    ")\n",
    "\n",
    "evaluation_agent = Agent(\n",
    "  config=agents_config['evaluation_agent'],\n",
    ")\n",
    "\n",
    "# Creating Tasks\n",
    "interpretation_task = Task(\n",
    "  config=tasks_config['interpretation_task'],\n",
    "  agent=interpretation_agent\n",
    ")\n",
    "\n",
    "evaluation_task = Task(\n",
    "  config=tasks_config['evaluation_task'],\n",
    "  agent=evaluation_agent\n",
    ")"
   ]
  },
  {
   "cell_type": "code",
   "execution_count": null,
   "metadata": {},
   "outputs": [],
   "source": [
    "crew = Crew(\n",
    "  agents=[\n",
    "    interpretation_agent,\n",
    "    evaluation_agent\n",
    "  ],\n",
    "  tasks=[\n",
    "    interpretation_task,\n",
    "    evaluation_task\n",
    "  ],\n",
    "  verbose=True\n",
    ")"
   ]
  },
  {
   "cell_type": "code",
   "execution_count": 14,
   "metadata": {},
   "outputs": [
    {
     "name": "stdout",
     "output_type": "stream",
     "text": [
      "\u001b[1m\u001b[95m# Agent:\u001b[00m \u001b[1m\u001b[92mRequest Interpreter\u001b[00m\n",
      "\u001b[95m## Task:\u001b[00m \u001b[92mEvaluate the user's request: Give me all the information about the models related with customers and determine the required action: - Adding a field: Identify where the field is currently available (if provided),\n",
      "  determine how to propagate it through necessary models or transformations,\n",
      "  and assess the impact on related models and dependencies.\n",
      "- Modifying an existing model: Identify specific changes needed, evaluate the\n",
      "  impact on structure, relationships, and downstream dependencies.\n",
      "- Retrieving specific information: Identify models containing relevant data,\n",
      "  analyze relationships, and determine queries or transformations needed.\n",
      "\n",
      "Reflect on the request to generate a concise plan for the approach and provide a clear summary of the required action and its implications.\n",
      "\u001b[00m\n",
      "\n",
      "\n",
      "\u001b[1m\u001b[95m# Agent:\u001b[00m \u001b[1m\u001b[92mRequest Interpreter\u001b[00m\n",
      "\u001b[95m## Final Answer:\u001b[00m \u001b[92m\n",
      "RETRIEVE_INFO - The required action involves identifying all models related to customers, analyzing their relationships, and determining the relevant queries or transformations needed to extract comprehensive information about these models.\u001b[00m\n",
      "\n",
      "\n",
      "\u001b[1m\u001b[95m# Agent:\u001b[00m \u001b[1m\u001b[92mEvaluation Specialist\u001b[00m\n",
      "\u001b[95m## Task:\u001b[00m \u001b[92mEvaluate the interpretation of the user request and determine the necessary steps to handle it effectively.  Include only relevant considerations based on the following topics: - Target models or files - Field existence - Documentation needs - Dependencies and relationships - Performance/design considerations - Tests - dbt project config - Code or logic generation\n",
      "Possible actions and considerations may include: - Identifying the target models or files affected by the request. - Analyzing upstream and downstream dependencies to locate the change points. - Assessing the need for adjustments in documentation, tests, or configuration files. - Evaluating performance impacts and ensuring maintainability. - Generating necessary SQL logic fragments (e.g., CTEs, columns). - Determining if an intermediate model is required for the changes. - Highlighting potential granularity changes or unique key impacts.\n",
      "\u001b[00m\n",
      "\n",
      "\n",
      "\u001b[1m\u001b[95m# Agent:\u001b[00m \u001b[1m\u001b[92mEvaluation Specialist\u001b[00m\n",
      "\u001b[95m## Final Answer:\u001b[00m \u001b[92m\n",
      "1. **Identify Target Models or Files**: \n",
      "   - Locate all dbt models related to customers. This may include models such as `customers`, `customer_orders`, `customer_segments`, etc.\n",
      "\n",
      "2. **Analyze Upstream and Downstream Dependencies**: \n",
      "   - Review the dependency graph in dbt to map out which models depend on the customer-related models and which models depend on those downstream. This will help in understanding the broader impact of any changes.\n",
      "\n",
      "3. **Field Existence Check**: \n",
      "   - Verify the existence of all relevant fields in the identified models (e.g., `customer_id`, `customer_name`, `email`, etc.). Ensure these fields align with the required queries or transformations.\n",
      "\n",
      "4. **Documentation Needs**: \n",
      "   - Assess if the documentation for each of the identified models is up to date. Prepare to update model descriptions, field definitions, and any related usage notes in the README or dbt docs.\n",
      "\n",
      "5. **Dependencies and Relationships**: \n",
      "   - Record any relationships that need to be established in the model definitions, including foreign key relationships that shape how the models relate (e.g., one-to-many relationships between customers and orders).\n",
      "\n",
      "6. **Performance/Design Considerations**: \n",
      "   - Evaluate how changes in queries or transformations may impact model performance. Consider if performance can be enhanced using a materialization strategy (e.g., table vs incremental) or by optimizing query structures.\n",
      "\n",
      "7. **Tests**: \n",
      "   - Define necessary tests for field integrity (e.g., unique tests on `customer_id`, not-null tests on `email`). This ensures data quality in the transformation process.\n",
      "\n",
      "8. **dbt Project Configuration**: \n",
      "   - Review `dbt_project.yml` for any configurations related to the customer models. Ensure any relevant settings (materializations, tags, etc.) are appropriately applied.\n",
      "\n",
      "9. **Code or Logic Generation**: \n",
      "   - Depending on the insights gathered, generate or modify SQL logic fragments to extend the current transformations for customer-related models. This could involve Common Table Expressions (CTEs) or specific SELECT clauses to enhance data retrieval.\n",
      "\n",
      "10. **Determine Need for Intermediate Models**: \n",
      "    - Assess if an intermediate model is needed for better performance or clarity (e.g., a summary model aggregating customer data before further transformations).\n",
      "\n",
      "11. **Highlight Potential Granularity Changes or Unique Key Impacts**: \n",
      "    - Identify if changes will alter the granularity of the existing models or if unique keys may be affected. Document any implications for current and downstream models.\n",
      "\n",
      "By following these steps, the request to extract comprehensive information about customer-related models can be addressed effectively and efficiently.\u001b[00m\n",
      "\n",
      "\n"
     ]
    }
   ],
   "source": [
    "user_input = 'Give me all the information about the models related with customers'\n",
    "\n",
    "inputs = {\n",
    "  'request': user_input\n",
    "}\n",
    "\n",
    "# Run the crew\n",
    "result = crew.kickoff(\n",
    "  inputs=inputs\n",
    ")"
   ]
  },
  {
   "cell_type": "markdown",
   "metadata": {},
   "source": [
    "#### Flows"
   ]
  },
  {
   "cell_type": "code",
   "execution_count": 30,
   "metadata": {},
   "outputs": [],
   "source": [
    "import nest_asyncio\n",
    "nest_asyncio.apply()"
   ]
  },
  {
   "cell_type": "code",
   "execution_count": 47,
   "metadata": {},
   "outputs": [],
   "source": [
    "from crewai import Flow\n",
    "from crewai.flow.flow import listen, start\n",
    "\n",
    "class dbtChatFlow(Flow):\n",
    "    @start()\n",
    "    def interpret_prompt(self):\n",
    "        user_prompt = self.state[\"user_input\"]\n",
    "        print(user_prompt)\n",
    "        interpretation_result = crew.kickoff(inputs = {'request': user_prompt} )\n",
    "        self.state[\"interpretation_result\"] = interpretation_result\n",
    "        return interpretation_result\n",
    "\n",
    "    @listen(lambda state: \"interpretation_result\" in state)\n",
    "    def evaluate_interpretation(self):\n",
    "        interpretation_result = self.state.get(\"interpretation_result\")\n",
    "        evaluation_result = crew.agents[1].kickoff({\"request\": interpretation_result})\n",
    "        self.state[\"evaluation_result\"] = evaluation_result\n",
    "        return evaluation_result\n",
    "\n",
    "flow = dbtChatFlow()\n",
    "#flow.plot()"
   ]
  },
  {
   "cell_type": "code",
   "execution_count": 48,
   "metadata": {},
   "outputs": [
    {
     "name": "stdout",
     "output_type": "stream",
     "text": [
      "Give me all the information about the models related with customers\n",
      "\u001b[1m\u001b[95m# Agent:\u001b[00m \u001b[1m\u001b[92mRequest Interpreter\u001b[00m\n",
      "\u001b[95m## Task:\u001b[00m \u001b[92mEvaluate the user's request: Give me all the information about the models related with customers and determine the required action: - Adding a field: Identify where the field is currently available (if provided),\n",
      "  determine how to propagate it through necessary models or transformations,\n",
      "  and assess the impact on related models and dependencies.\n",
      "- Modifying an existing model: Identify specific changes needed, evaluate the\n",
      "  impact on structure, relationships, and downstream dependencies.\n",
      "- Retrieving specific information: Identify models containing relevant data,\n",
      "  analyze relationships, and determine queries or transformations needed.\n",
      "\n",
      "Reflect on the request to generate a concise plan for the approach and provide a clear summary of the required action and its implications.\n",
      "\u001b[00m\n",
      "\n",
      "\n",
      "\u001b[1m\u001b[95m# Agent:\u001b[00m \u001b[1m\u001b[92mRequest Interpreter\u001b[00m\n",
      "\u001b[95m## Final Answer:\u001b[00m \u001b[92m\n",
      "RETRIEVE_INFO - The action involves identifying all models related to customers within the dbt project, analyzing their relationships, and determining the relevant data queries needed to pull comprehensive information about these models. This will require mapping out the dependencies and ensuring all necessary fields relating to customers are included in the information retrieval process.\u001b[00m\n",
      "\n",
      "\n",
      "\u001b[1m\u001b[95m# Agent:\u001b[00m \u001b[1m\u001b[92mEvaluation Specialist\u001b[00m\n",
      "\u001b[95m## Task:\u001b[00m \u001b[92mEvaluate the interpretation of the user request and determine the necessary steps to handle it effectively.  Include only relevant considerations based on the following topics: - Target models or files - Field existence - Documentation needs - Dependencies and relationships - Performance/design considerations - Tests - dbt project config - Code or logic generation\n",
      "Possible actions and considerations may include: - Identifying the target models or files affected by the request. - Analyzing upstream and downstream dependencies to locate the change points. - Assessing the need for adjustments in documentation, tests, or configuration files. - Evaluating performance impacts and ensuring maintainability. - Generating necessary SQL logic fragments (e.g., CTEs, columns). - Determining if an intermediate model is required for the changes. - Highlighting potential granularity changes or unique key impacts.\n",
      "\u001b[00m\n",
      "\n",
      "\n",
      "\u001b[1m\u001b[95m# Agent:\u001b[00m \u001b[1m\u001b[92mEvaluation Specialist\u001b[00m\n",
      "\u001b[95m## Final Answer:\u001b[00m \u001b[92m\n",
      "1. **Identify Target Models**: Locate all dbt models associated with customers. This includes direct customer models as well as any related models that either depend on or feed data to customer-related analyses (e.g., orders, transactions, addresses).\n",
      "\n",
      "2. **Analyze Dependencies**: Map out the upstream and downstream dependencies of identified customer models. Understand how changes in one model may affect others, particularly focusing on the lineage graph to visualize relationships.\n",
      "\n",
      "3. **Field Existence and Relevance**: Examine the specific fields included in each model related to customers. Ensure all necessary attributes (e.g., customer IDs, names, contact details) are accounted for in the retrieval process. Determine if any fields are missing that need to be added.\n",
      "\n",
      "4. **Documentation Needs**: Update documentation to reflect the relationships between models, including any new fields identified. Ensure descriptions accurately convey the purpose of customer models and how they interact within the project.\n",
      "\n",
      "5. **Performance Considerations**: Evaluate the performance impact of any potential changes, specifically focusing on the efficiency of queries and models during data retrieval. Analyze whether intermediate models are necessary to optimize performance.\n",
      "\n",
      "6. **Testing Requirements**: Define necessary tests for newly implemented changes in the customer models. This might include data quality checks and validation of the integrity of relationships among customer-related models.\n",
      "\n",
      "7. **dbt Project Config**: Review the dbt configuration files for changes that may be necessary as a response to the analysis. This could involve adjustments to the model materializations or settings to optimize performance.\n",
      "\n",
      "8. **Logic Generation**: Generate any new SQL logic fragments required to retrieve comprehensive customer information. This might include constructing common table expressions (CTEs) to facilitate the queries, ensuring they capture necessary relationships.\n",
      "\n",
      "9. **Granularity and Unique Key Considerations**: Assess if there are potential impacts on granularity or unique keys for the customer models. Determine whether changes might lead to duplicate records or affect aggregations across models.\n",
      "\n",
      "By conducting these tasks promptly and efficiently, one can ensure a thorough understanding and implementation regarding the pertinent customer-related models within the dbt project.\u001b[00m\n",
      "\n",
      "\n"
     ]
    },
    {
     "data": {
      "text/plain": [
       "CrewOutput(raw='1. **Identify Target Models**: Locate all dbt models associated with customers. This includes direct customer models as well as any related models that either depend on or feed data to customer-related analyses (e.g., orders, transactions, addresses).\\n\\n2. **Analyze Dependencies**: Map out the upstream and downstream dependencies of identified customer models. Understand how changes in one model may affect others, particularly focusing on the lineage graph to visualize relationships.\\n\\n3. **Field Existence and Relevance**: Examine the specific fields included in each model related to customers. Ensure all necessary attributes (e.g., customer IDs, names, contact details) are accounted for in the retrieval process. Determine if any fields are missing that need to be added.\\n\\n4. **Documentation Needs**: Update documentation to reflect the relationships between models, including any new fields identified. Ensure descriptions accurately convey the purpose of customer models and how they interact within the project.\\n\\n5. **Performance Considerations**: Evaluate the performance impact of any potential changes, specifically focusing on the efficiency of queries and models during data retrieval. Analyze whether intermediate models are necessary to optimize performance.\\n\\n6. **Testing Requirements**: Define necessary tests for newly implemented changes in the customer models. This might include data quality checks and validation of the integrity of relationships among customer-related models.\\n\\n7. **dbt Project Config**: Review the dbt configuration files for changes that may be necessary as a response to the analysis. This could involve adjustments to the model materializations or settings to optimize performance.\\n\\n8. **Logic Generation**: Generate any new SQL logic fragments required to retrieve comprehensive customer information. This might include constructing common table expressions (CTEs) to facilitate the queries, ensuring they capture necessary relationships.\\n\\n9. **Granularity and Unique Key Considerations**: Assess if there are potential impacts on granularity or unique keys for the customer models. Determine whether changes might lead to duplicate records or affect aggregations across models.\\n\\nBy conducting these tasks promptly and efficiently, one can ensure a thorough understanding and implementation regarding the pertinent customer-related models within the dbt project.', pydantic=None, json_dict=None, tasks_output=[TaskOutput(description=\"Evaluate the user's request: Give me all the information about the models related with customers and determine the required action: - Adding a field: Identify where the field is currently available (if provided),\\n  determine how to propagate it through necessary models or transformations,\\n  and assess the impact on related models and dependencies.\\n- Modifying an existing model: Identify specific changes needed, evaluate the\\n  impact on structure, relationships, and downstream dependencies.\\n- Retrieving specific information: Identify models containing relevant data,\\n  analyze relationships, and determine queries or transformations needed.\\n\\nReflect on the request to generate a concise plan for the approach and provide a clear summary of the required action and its implications.\\n\", name=None, expected_output='Return one of the following actions: - ADD_COLUMN - MODIFY_MODEL - RETRIVE_INFO\\nAdditionally, include a short explanation of the work required for the action. The output should be minimal and focused, avoiding extra commentary or filler text.\\n', summary=\"Evaluate the user's request: Give me all the information about...\", raw='RETRIEVE_INFO - The action involves identifying all models related to customers within the dbt project, analyzing their relationships, and determining the relevant data queries needed to pull comprehensive information about these models. This will require mapping out the dependencies and ensuring all necessary fields relating to customers are included in the information retrieval process.', pydantic=None, json_dict=None, agent='Request Interpreter\\n', output_format=<OutputFormat.RAW: 'raw'>), TaskOutput(description='Evaluate the interpretation of the user request and determine the necessary steps to handle it effectively.  Include only relevant considerations based on the following topics: - Target models or files - Field existence - Documentation needs - Dependencies and relationships - Performance/design considerations - Tests - dbt project config - Code or logic generation\\nPossible actions and considerations may include: - Identifying the target models or files affected by the request. - Analyzing upstream and downstream dependencies to locate the change points. - Assessing the need for adjustments in documentation, tests, or configuration files. - Evaluating performance impacts and ensuring maintainability. - Generating necessary SQL logic fragments (e.g., CTEs, columns). - Determining if an intermediate model is required for the changes. - Highlighting potential granularity changes or unique key impacts.\\n', name=None, expected_output='A concise summary of the high-level tasks required to fulfill the request. If additional context (e.g., project structure or lineage) is needed, clearly state this and provide only reflections based on the given information.\\nAvoid filler text or unnecessary explanations, and focus exclusively on actionable insights.', summary='Evaluate the interpretation of the user request and determine the...', raw='1. **Identify Target Models**: Locate all dbt models associated with customers. This includes direct customer models as well as any related models that either depend on or feed data to customer-related analyses (e.g., orders, transactions, addresses).\\n\\n2. **Analyze Dependencies**: Map out the upstream and downstream dependencies of identified customer models. Understand how changes in one model may affect others, particularly focusing on the lineage graph to visualize relationships.\\n\\n3. **Field Existence and Relevance**: Examine the specific fields included in each model related to customers. Ensure all necessary attributes (e.g., customer IDs, names, contact details) are accounted for in the retrieval process. Determine if any fields are missing that need to be added.\\n\\n4. **Documentation Needs**: Update documentation to reflect the relationships between models, including any new fields identified. Ensure descriptions accurately convey the purpose of customer models and how they interact within the project.\\n\\n5. **Performance Considerations**: Evaluate the performance impact of any potential changes, specifically focusing on the efficiency of queries and models during data retrieval. Analyze whether intermediate models are necessary to optimize performance.\\n\\n6. **Testing Requirements**: Define necessary tests for newly implemented changes in the customer models. This might include data quality checks and validation of the integrity of relationships among customer-related models.\\n\\n7. **dbt Project Config**: Review the dbt configuration files for changes that may be necessary as a response to the analysis. This could involve adjustments to the model materializations or settings to optimize performance.\\n\\n8. **Logic Generation**: Generate any new SQL logic fragments required to retrieve comprehensive customer information. This might include constructing common table expressions (CTEs) to facilitate the queries, ensuring they capture necessary relationships.\\n\\n9. **Granularity and Unique Key Considerations**: Assess if there are potential impacts on granularity or unique keys for the customer models. Determine whether changes might lead to duplicate records or affect aggregations across models.\\n\\nBy conducting these tasks promptly and efficiently, one can ensure a thorough understanding and implementation regarding the pertinent customer-related models within the dbt project.', pydantic=None, json_dict=None, agent='Evaluation Specialist\\n', output_format=<OutputFormat.RAW: 'raw'>)], token_usage=UsageMetrics(total_tokens=2899, prompt_tokens=1798, cached_prompt_tokens=0, completion_tokens=1101, successful_requests=4))"
      ]
     },
     "execution_count": 48,
     "metadata": {},
     "output_type": "execute_result"
    }
   ],
   "source": [
    "user_input = 'Give me all the information about the models related with customers'\n",
    "flow.kickoff(inputs={\"user_input\": user_input})"
   ]
  },
  {
   "cell_type": "code",
   "execution_count": null,
   "metadata": {},
   "outputs": [],
   "source": [
    "from crewai import Flow\n",
    "from crewai.flow.flow import listen, start, and_, or_, router\n",
    "\n",
    "class SalesPipeline(Flow):\n",
    "    \n",
    "  @start()\n",
    "  def fetch_leads(self):\n",
    "    # Pull our leads from the database\n",
    "    # This is a mock, in a real-world scenario, this is where you would\n",
    "    # fetch leads from a database\n",
    "    leads = [\n",
    "      {\n",
    "        \"lead_data\": {\n",
    "          \"name\": \"João Moura\",\n",
    "          \"job_title\": \"Director of Engineering\",\n",
    "          \"company\": \"Clearbit\",\n",
    "          \"email\": \"joao@clearbit.com\",\n",
    "          \"use_case\": \"Using AI Agent to do better data enrichment.\"\n",
    "        },\n",
    "      },\n",
    "    ]\n",
    "    return leads\n",
    "\n",
    "  @listen(fetch_leads)\n",
    "  def score_leads(self, leads):\n",
    "    scores = lead_scoring_crew.kickoff_for_each(leads)\n",
    "    self.state[\"score_crews_results\"] = scores\n",
    "    return scores\n",
    "\n",
    "  @listen(score_leads)\n",
    "  def store_leads_score(self, scores):\n",
    "    # Here we would store the scores in the database\n",
    "    return scores\n",
    "\n",
    "  @listen(score_leads)\n",
    "  def filter_leads(self, scores):\n",
    "    return [score for score in scores if score['lead_score'].score > 70]\n",
    "\n",
    "  @listen(and_(filter_leads, store_leads_score))\n",
    "  def log_leads(self, leads):\n",
    "    print(f\"Leads: {leads}\")\n",
    "\n",
    "  @router(filter_leads, paths=[\"high\", \"medium\", \"low\"])\n",
    "  def count_leads(self, scores):\n",
    "    if len(scores) > 10:\n",
    "      return 'high'\n",
    "    elif len(scores) > 5:\n",
    "      return 'medium'\n",
    "    else:\n",
    "      return 'low'\n",
    "\n",
    "  @listen('high')\n",
    "  def store_in_salesforce(self, leads):\n",
    "    return leads\n",
    "\n",
    "  @listen('medium')\n",
    "  def send_to_sales_team(self, leads):\n",
    "    return leads\n",
    "\n",
    "  @listen('low')\n",
    "  def write_email(self, leads):\n",
    "    scored_leads = [lead.to_dict() for lead in leads]\n",
    "    emails = email_writing_crew.kickoff_for_each(scored_leads)\n",
    "    return emails\n",
    "\n",
    "  @listen(write_email)\n",
    "  def send_email(self, emails):\n",
    "    # Here we would send the emails to the leads\n",
    "    return emails"
   ]
  }
 ],
 "metadata": {
  "kernelspec": {
   "display_name": "rag-env",
   "language": "python",
   "name": "python3"
  },
  "language_info": {
   "codemirror_mode": {
    "name": "ipython",
    "version": 3
   },
   "file_extension": ".py",
   "mimetype": "text/x-python",
   "name": "python",
   "nbconvert_exporter": "python",
   "pygments_lexer": "ipython3",
   "version": "3.10.16"
  }
 },
 "nbformat": 4,
 "nbformat_minor": 2
}
