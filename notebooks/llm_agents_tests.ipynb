{
 "cells": [
  {
   "cell_type": "code",
   "execution_count": 2,
   "metadata": {},
   "outputs": [],
   "source": [
    "import pandas as pd\n",
    "import re\n",
    "import yaml\n",
    "import sqlparse\n",
    "import os\n",
    "import pandas as pd\n",
    "import numpy as np\n",
    "import requests\n",
    "from IPython.display import display, Markdown\n",
    "\n",
    "from langchain.vectorstores import Chroma\n",
    "from langchain_openai import OpenAIEmbeddings, ChatOpenAI"
   ]
  },
  {
   "cell_type": "code",
   "execution_count": 3,
   "metadata": {},
   "outputs": [],
   "source": [
    "def add_repo_root_path():\n",
    "    import os\n",
    "    import sys\n",
    "    repo_root = os.path.abspath(os.path.join(os.getcwd(), \"..\"))\n",
    "    if repo_root not in sys.path:\n",
    "        sys.path.append(repo_root)\n",
    "        \n",
    "add_repo_root_path()\n",
    "from src import generate_knowledge\n",
    "from src import create_rag_db\n",
    "from src import llm_chain_tools\n",
    "from src.enhanced_retriever import EnhancedRetriever"
   ]
  },
  {
   "cell_type": "code",
   "execution_count": 4,
   "metadata": {},
   "outputs": [],
   "source": [
    "pd.set_option('display.max_rows', 100)\n",
    "pd.set_option('display.max_columns', 50)\n",
    "#pd.set_option('display.width', None)\n",
    "#pd.set_option('display.max_colwidth', 10) "
   ]
  },
  {
   "cell_type": "markdown",
   "metadata": {},
   "source": [
    "### INIT"
   ]
  },
  {
   "cell_type": "code",
   "execution_count": 5,
   "metadata": {},
   "outputs": [],
   "source": [
    "generate_knowledge.add_repo_root_path()\n",
    "import openai_setup\n",
    "\n",
    "OPENAI_API_KEY = openai_setup.conf['key']\n",
    "OPENAI_PROJECT = openai_setup.conf['project']\n",
    "OPENAI_ORGANIZATION = openai_setup.conf['organization']\n",
    "DEFAULT_LLM_MODEL = \"gpt-4o-mini\"\n",
    "CHROMADB_DIRECTORY = '../chromadb'\n",
    "COLLECTION_NAME = \"my_chromadb\" \n",
    "\n",
    "import os\n",
    "os.environ[\"OPENAI_API_KEY\"] = OPENAI_API_KEY\n",
    "os.environ['OPENAI_MODEL_NAME'] = DEFAULT_LLM_MODEL\n"
   ]
  },
  {
   "cell_type": "code",
   "execution_count": 6,
   "metadata": {},
   "outputs": [],
   "source": [
    "langchain_openai_embeddings = OpenAIEmbeddings(openai_api_key=OPENAI_API_KEY, model=\"text-embedding-ada-002\")\n",
    "langchain_openai_llm = ChatOpenAI(model=DEFAULT_LLM_MODEL, temperature=0.1, openai_api_key=OPENAI_API_KEY, openai_organization = OPENAI_ORGANIZATION)"
   ]
  },
  {
   "cell_type": "code",
   "execution_count": null,
   "metadata": {},
   "outputs": [],
   "source": [
    "# Define file paths for YAML configurations\n",
    "files = {\n",
    "    'agents': '../config/agents.yml',\n",
    "    'tasks': '../config/tasks.yml'\n",
    "}\n",
    "\n",
    "# Load configurations from YAML files\n",
    "configs = {}\n",
    "for config_type, file_path in files.items():\n",
    "    with open(file_path, 'r') as file:\n",
    "        configs[config_type] = yaml.safe_load(file)\n",
    "\n",
    "# Assign loaded configurations to specific variables\n",
    "agents_config = configs['agents']\n",
    "tasks_config = configs['tasks']\n",
    "\n",
    "print(agents_config)\n",
    "print(tasks_config)"
   ]
  },
  {
   "cell_type": "code",
   "execution_count": 8,
   "metadata": {},
   "outputs": [],
   "source": [
    "from crewai import Agent, Task, Crew"
   ]
  },
  {
   "cell_type": "markdown",
   "metadata": {},
   "source": [
    "### TESTS"
   ]
  },
  {
   "cell_type": "markdown",
   "metadata": {},
   "source": [
    "#### Agents"
   ]
  },
  {
   "cell_type": "code",
   "execution_count": 8,
   "metadata": {},
   "outputs": [],
   "source": [
    "\n",
    "# Creating Agents\n",
    "interpretation_agent = Agent(\n",
    "  config=agents_config['interpretation_agent'],\n",
    ")\n",
    "\n",
    "evaluation_agent = Agent(\n",
    "  config=agents_config['evaluation_agent'],\n",
    ")\n",
    "\n",
    "lineage_agent = Agent(\n",
    "  config=agents_config['lineage_agent'],\n",
    ")\n",
    "\n",
    "plan_agent = Agent(\n",
    "  config=agents_config['plan_agent'],\n",
    ")"
   ]
  },
  {
   "cell_type": "code",
   "execution_count": 9,
   "metadata": {},
   "outputs": [],
   "source": [
    "# Creating Tasks\n",
    "interpretation_task = Task(\n",
    "  config=tasks_config['interpretation_task'],\n",
    "  agent=interpretation_agent\n",
    ")\n",
    "\n",
    "evaluation_task = Task(\n",
    "  config=tasks_config['evaluation_task'],\n",
    "  agent=evaluation_agent\n",
    ")\n",
    "\n",
    "lineage_task = Task(\n",
    "  config=tasks_config['lineage_task'],\n",
    "  agent=lineage_agent\n",
    ")\n",
    "\n",
    "plan_task = Task(\n",
    "  config=tasks_config['plan_task'],\n",
    "  agent=plan_agent\n",
    ")"
   ]
  },
  {
   "cell_type": "code",
   "execution_count": 10,
   "metadata": {},
   "outputs": [],
   "source": [
    "crew = Crew(\n",
    "  agents=[\n",
    "    interpretation_agent,\n",
    "    evaluation_agent\n",
    "  ],\n",
    "  tasks=[\n",
    "    interpretation_task,\n",
    "    evaluation_task\n",
    "  ],\n",
    "  verbose=True\n",
    ")"
   ]
  },
  {
   "cell_type": "code",
   "execution_count": null,
   "metadata": {},
   "outputs": [],
   "source": [
    "user_input = 'Give me all the information about the models related with customers'\n",
    "\n",
    "inputs = {\n",
    "  'request': user_input\n",
    "}\n",
    "\n",
    "# Run the crew\n",
    "result = crew.kickoff(\n",
    "  inputs=inputs\n",
    ")"
   ]
  },
  {
   "cell_type": "markdown",
   "metadata": {},
   "source": [
    "#### Flows"
   ]
  },
  {
   "cell_type": "code",
   "execution_count": 17,
   "metadata": {},
   "outputs": [],
   "source": [
    "import nest_asyncio\n",
    "nest_asyncio.apply()"
   ]
  },
  {
   "cell_type": "code",
   "execution_count": 12,
   "metadata": {},
   "outputs": [],
   "source": [
    "from crewai import Flow\n",
    "from crewai.flow.flow import listen, start\n",
    "\n",
    "class dbtChatFlow(Flow):\n",
    "    @start()\n",
    "    def interpret_prompt(self):\n",
    "        user_prompt = self.state[\"user_input\"]\n",
    "        print(user_prompt)\n",
    "        interpretation_result = crew.kickoff(inputs = {'request': user_prompt} )\n",
    "        self.state[\"interpretation_result\"] = interpretation_result\n",
    "        return interpretation_result\n",
    "\n",
    "    @listen(lambda state: \"interpretation_result\" in state)\n",
    "    def evaluate_interpretation(self):\n",
    "        interpretation_result = self.state.get(\"interpretation_result\")\n",
    "        evaluation_result = crew.agents[1].kickoff({\"request\": interpretation_result})\n",
    "        self.state[\"evaluation_result\"] = evaluation_result\n",
    "        return evaluation_result\n",
    "\n",
    "flow = dbtChatFlow()\n",
    "#flow.plot()"
   ]
  },
  {
   "cell_type": "code",
   "execution_count": null,
   "metadata": {},
   "outputs": [],
   "source": [
    "user_input = 'Give me all the information about the models related with customers'\n",
    "flow.kickoff(inputs={\"user_input\": user_input})"
   ]
  },
  {
   "cell_type": "markdown",
   "metadata": {},
   "source": [
    "### CREATE AGENT CHAIN"
   ]
  },
  {
   "cell_type": "markdown",
   "metadata": {},
   "source": [
    "#### Configure Prerequisites"
   ]
  },
  {
   "cell_type": "code",
   "execution_count": null,
   "metadata": {},
   "outputs": [],
   "source": [
    "from langchain_openai import ChatOpenAI\n",
    "\n",
    "loaded_vectorstore = Chroma(\n",
    "    collection_name=COLLECTION_NAME,\n",
    "    persist_directory=CHROMADB_DIRECTORY,\n",
    "    embedding_function=langchain_openai_embeddings\n",
    ")"
   ]
  },
  {
   "cell_type": "code",
   "execution_count": 10,
   "metadata": {},
   "outputs": [],
   "source": [
    "_, repo_name = generate_knowledge.extract_owner_and_repo('https://github.com/dbt-labs/jaffle-shop')\n",
    "dbt_models_df = pd.read_csv('../data/dbt_models_' + repo_name + '.csv')\n",
    "dbt_project_df = pd.read_csv('../data/dbt_project_' + repo_name + '.csv')\n",
    "dbt_repo_knowledge_df = create_rag_db.merge_dbt_models_and_project_dfs(dbt_models_df, dbt_project_df)"
   ]
  },
  {
   "cell_type": "code",
   "execution_count": 11,
   "metadata": {},
   "outputs": [],
   "source": [
    "retriever = EnhancedRetriever(vectorstore = loaded_vectorstore, embedding_function= langchain_openai_embeddings)\n",
    "\n",
    "query = \"give me all the models related with the dbt model orders\"\n",
    "final_context, top_documents = retriever.retrieve(query)"
   ]
  },
  {
   "cell_type": "markdown",
   "metadata": {},
   "source": [
    "#### Create agents, tasks and flow"
   ]
  },
  {
   "cell_type": "code",
   "execution_count": 12,
   "metadata": {},
   "outputs": [],
   "source": [
    "# Creating Agents\n",
    "interpretation_agent = Agent(\n",
    "  config=agents_config['interpretation_agent'],\n",
    ")\n",
    "\n",
    "evaluation_agent = Agent(\n",
    "  config=agents_config['evaluation_agent'],\n",
    ")\n",
    "\n",
    "lineage_agent = Agent(\n",
    "  config=agents_config['lineage_agent'],\n",
    ")\n",
    "\n",
    "plan_agent = Agent(\n",
    "  config=agents_config['plan_agent'],\n",
    ")"
   ]
  },
  {
   "cell_type": "code",
   "execution_count": 13,
   "metadata": {},
   "outputs": [],
   "source": [
    "# Creating Tasks\n",
    "interpretation_task = Task(\n",
    "  config=tasks_config['interpretation_task'],\n",
    "  agent=interpretation_agent\n",
    ")\n",
    "\n",
    "evaluation_task = Task(\n",
    "  config=tasks_config['evaluation_task'],\n",
    "  agent=evaluation_agent\n",
    ")\n",
    "\n",
    "lineage_task = Task(\n",
    "  config=tasks_config['lineage_task'],\n",
    "  agent=lineage_agent\n",
    ")\n",
    "\n",
    "plan_task = Task(\n",
    "  config=tasks_config['plan_task'],\n",
    "  agent=plan_agent\n",
    ")"
   ]
  },
  {
   "cell_type": "code",
   "execution_count": null,
   "metadata": {},
   "outputs": [],
   "source": [
    "interpretation_crew = Crew(agents = [interpretation_agent], tasks = [interpretation_task], verbose = True)\n",
    "evaluation_crew = Crew(agents = [evaluation_agent], tasks = [evaluation_task], verbose = True)\n",
    "lineage_crew = Crew(agents = [lineage_agent], tasks = [lineage_task], verbose = True)\n",
    "plan_crew = Crew(agents = [plan_agent], tasks = [plan_task], verbose = True)"
   ]
  },
  {
   "cell_type": "code",
   "execution_count": null,
   "metadata": {},
   "outputs": [],
   "source": [
    "import nest_asyncio\n",
    "nest_asyncio.apply()\n",
    "\n",
    "from crewai import Flow\n",
    "from crewai.flow.flow import listen, start\n",
    "\n",
    "class dbtChatFlow(Flow):\n",
    "    @start()\n",
    "    def interpret_prompt(self):\n",
    "        request = self.state[\"request\"]\n",
    "        interpretation = interpretation_crew.kickoff(inputs = {'request': request})\n",
    "        self.state[\"interpretation\"] = interpretation\n",
    "        return interpretation\n",
    "\n",
    "    @listen(interpret_prompt)\n",
    "    def evaluate_interpretation(self):\n",
    "        request = self.state[\"request\"]\n",
    "        interpretation = self.state.get(\"interpretation\")\n",
    "        evaluation = evaluation_crew.kickoff(inputs = {'request': request, \"interpretation\": interpretation})\n",
    "        self.state[\"evaluation\"] = evaluation\n",
    "        return evaluation\n",
    "    \n",
    "    @listen(evaluate_interpretation)\n",
    "    def retrieve_general_context_for_lineage_calculation(self):\n",
    "        request = self.state[\"request\"]\n",
    "        interpretation = self.state.get(\"interpretation\")\n",
    "        vectorstore = self.state[\"vectorstore\"]\n",
    "        embedding_function = self.state[\"embedding_function\"]\n",
    "        retriever = EnhancedRetriever(vectorstore = vectorstore, embedding_function= embedding_function)\n",
    "        retriever_input = \"\"\"\n",
    "            USER REQUEST: {request}\n",
    "            REQUEST FINALITY: {interpretation}\n",
    "        \"\"\"\n",
    "        retrieved_context, retrieved_documents = retriever.retrieve(retriever_input)\n",
    "        retrieved_context = \"\\n\".join([doc.page_content for doc in retrieved_documents if hasattr(doc, 'page_content')])\n",
    "        self.state[\"retrieved_context\"] = retrieved_context\n",
    "        return retrieved_context\n",
    "\n",
    "    @listen(retrieve_general_context_for_lineage_calculation)\n",
    "    def get_lineage(self):\n",
    "        request = self.state[\"request\"]\n",
    "        evaluation = self.state.get(\"evaluation\")\n",
    "        \n",
    "        retrieved_context = self.state.get(\"retrieved_context\")\n",
    "        lineage_analysis = lineage_crew.kickoff(inputs = {'request': request, 'evaluation': str(evaluation), 'retrieved_context':retrieved_context})\n",
    "        json_output = lineage_analysis.raw.replace(\"```json\", \"\").replace(\"```\", \"\").strip()\n",
    "        self.state[\"lineage_analysis\"] = eval(json_output)\n",
    "        return eval(json_output)\n",
    "    \n",
    "    @listen(get_lineage)\n",
    "    def get_lineage_documents(self):\n",
    "        lineage_analysis = self.state.get(\"lineage_analysis\")\n",
    "        vectorstore = self.state[\"vectorstore\"]\n",
    "        dbt_repo_knowledge_df = self.state[\"dbt_repo_knowledge_df\"]\n",
    "\n",
    "        model_name = lineage_analysis.get(\"model\")\n",
    "        scope = lineage_analysis.get(\"scope\", \"\").upper()\n",
    "\n",
    "        lineage_df = create_rag_db.plot_dbt_lineage(dbt_repo_knowledge_df)\n",
    "        affected_models = llm_chain_tools.get_affected_models(lineage_df, model_name)\n",
    "\n",
    "        if scope == \"UP\":\n",
    "            filtered_models = affected_models[\"upstream\"]\n",
    "        elif scope == \"DOWN\":\n",
    "            filtered_models = affected_models[\"downstream\"]\n",
    "        elif scope == \"ALL\":\n",
    "            filtered_models = affected_models[\"upstream\"] + affected_models[\"downstream\"]\n",
    "        filtered_models = list(set(f\"{model}.sql\" for model in filtered_models + [model_name]))\n",
    "        \n",
    "        documents = llm_chain_tools.extract_documents_from_vectorstore(vectorstore)\n",
    "        lineage_documents = llm_chain_tools.select_documents(documents, filtered_models)\n",
    "        self.state[\"lineage_documents\"] = lineage_documents\n",
    "        return lineage_documents\n",
    "\n",
    "    @listen(get_lineage_documents)\n",
    "    def retrieve_lineage_context(self):\n",
    "        lineage_documents = self.state.get(\"lineage_documents\")\n",
    "        embedding_function = self.state[\"embedding_function\"]\n",
    "        request = self.state[\"request\"]\n",
    "        interpretation = self.state.get(\"interpretation\")\n",
    "        evaluation = self.state.get(\"evaluation\")\n",
    "\n",
    "        retriever_documents = lineage_documents[\"retriever_documents\"]\n",
    "        csv_sources_documents = lineage_documents[\"csv_sources_documents\"]\n",
    "        yml_project_documents = lineage_documents[\"yml_project_documents\"]\n",
    "\n",
    "        # Create a new vectorstore with the filtered documents\n",
    "        new_vectorstore = Chroma.from_documents(retriever_documents, embedding_function)\n",
    "        \n",
    "        # Adjusted retriever\n",
    "        new_retriever = EnhancedRetriever(vectorstore = new_vectorstore, embedding_function = embedding_function)\n",
    "        retriever_input = \"\"\"\n",
    "            USER REQUEST: {request}\n",
    "            REQUEST FINALITY: {interpretation}\n",
    "            DBT EXPERT DEEP EVALUATION: {evaluation}\n",
    "        \"\"\"\n",
    "        retrieved_context, retrieved_documents = new_retriever.retrieve(retriever_input)\n",
    "        combined_documents =  yml_project_documents + retrieved_documents\n",
    "\n",
    "        retrieved_context = \"\\n\".join([doc.page_content for doc in combined_documents if hasattr(doc, 'page_content')])\n",
    "        retrieved_csv_sources_context = \"\\n\".join([doc.page_content for doc in csv_sources_documents if hasattr(doc, 'page_content')])\n",
    "\n",
    "        self.state[\"planning_retrieved_context\"] = retrieved_context\n",
    "        self.state[\"planning_retrieved_csv_sources_context\"] = retrieved_csv_sources_context\n",
    "        return retrieved_context\n",
    "    \n",
    "    @listen(retrieve_lineage_context)\n",
    "    def plan_changes(self):\n",
    "        request = self.state[\"request\"]\n",
    "        evaluation = self.state.get(\"evaluation\")\n",
    "        lineage_analysis = self.state.get(\"lineage_analysis\")\n",
    "        planning_retrieved_context = self.state.get(\"planning_retrieved_context\")\n",
    "        planning_retrieved_csv_sources_context = self.state.get(\"planning_retrieved_csv_sources_context\")\n",
    "\n",
    "        plan = plan_crew.kickoff(inputs = {'request': request, \"evaluation\": str(evaluation), \"lineage_analysis\": str(lineage_analysis), \"retrieved_context\": planning_retrieved_context,  \"retrieved_csv_sources_context\":planning_retrieved_csv_sources_context})\n",
    "        self.state[\"plan\"] = plan\n",
    "        return plan\n",
    "\n",
    "flow = dbtChatFlow()\n",
    "flow.plot()"
   ]
  },
  {
   "cell_type": "code",
   "execution_count": null,
   "metadata": {},
   "outputs": [],
   "source": [
    "user_input = 'Give me all the information about the models related with customers'\n",
    "result = flow.kickoff(inputs={\"request\": user_input, \"dbt_repo_knowledge_df\": dbt_repo_knowledge_df, \"vectorstore\": loaded_vectorstore, \"embedding_function\":langchain_openai_embeddings})"
   ]
  },
  {
   "cell_type": "code",
   "execution_count": null,
   "metadata": {},
   "outputs": [],
   "source": [
    "Markdown(result.raw)"
   ]
  },
  {
   "cell_type": "markdown",
   "metadata": {},
   "source": [
    "## ADVANCE CHAIN"
   ]
  },
  {
   "cell_type": "code",
   "execution_count": null,
   "metadata": {},
   "outputs": [],
   "source": [
    "from langchain_openai import ChatOpenAI\n",
    "\n",
    "loaded_vectorstore = Chroma(\n",
    "    collection_name=COLLECTION_NAME,\n",
    "    persist_directory=CHROMADB_DIRECTORY,\n",
    "    embedding_function=langchain_openai_embeddings\n",
    ")\n",
    "\n",
    "retriever = EnhancedRetriever(vectorstore = loaded_vectorstore, embedding_function= langchain_openai_embeddings)\n",
    "\n",
    "_, repo_name = generate_knowledge.extract_owner_and_repo('https://github.com/dbt-labs/jaffle-shop')\n",
    "dbt_models_df = pd.read_csv('../data/dbt_models_' + repo_name + '.csv')\n",
    "dbt_project_df = pd.read_csv('../data/dbt_project_' + repo_name + '.csv')\n",
    "dbt_repo_knowledge_df = create_rag_db.merge_dbt_models_and_project_dfs(dbt_models_df, dbt_project_df)"
   ]
  },
  {
   "cell_type": "markdown",
   "metadata": {},
   "source": [
    "#### Agents, tasks and crews"
   ]
  },
  {
   "cell_type": "code",
   "execution_count": null,
   "metadata": {},
   "outputs": [],
   "source": [
    "# Creating Agents\n",
    "check_model_agent = Agent(\n",
    "  config=agents_config['check_model_agent'],\n",
    ")\n",
    "\n",
    "search_model_agent = Agent(\n",
    "  config=agents_config['search_model_agent'],\n",
    ")\n",
    "\n",
    "extract_info_agent = Agent(\n",
    "  config=agents_config['extract_info_agent'],\n",
    ")\n",
    "\n",
    "process_info_agent = Agent(\n",
    "  config=agents_config['process_info_agent'],\n",
    ")\n",
    "\n",
    "solution_design_agent = Agent(\n",
    "  config=agents_config['solution_design_agent'],\n",
    ")\n"
   ]
  },
  {
   "cell_type": "code",
   "execution_count": 53,
   "metadata": {},
   "outputs": [
    {
     "ename": "KeyError",
     "evalue": "'check_model_task'",
     "output_type": "error",
     "traceback": [
      "\u001b[0;31m---------------------------------------------------------------------------\u001b[0m",
      "\u001b[0;31mKeyError\u001b[0m                                  Traceback (most recent call last)",
      "Cell \u001b[0;32mIn[53], line 3\u001b[0m\n\u001b[1;32m      1\u001b[0m \u001b[38;5;66;03m# Creating Tasks\u001b[39;00m\n\u001b[1;32m      2\u001b[0m check_model_task \u001b[38;5;241m=\u001b[39m Task(\n\u001b[0;32m----> 3\u001b[0m   config\u001b[38;5;241m=\u001b[39m\u001b[43mtasks_config\u001b[49m\u001b[43m[\u001b[49m\u001b[38;5;124;43m'\u001b[39;49m\u001b[38;5;124;43mcheck_model_task\u001b[39;49m\u001b[38;5;124;43m'\u001b[39;49m\u001b[43m]\u001b[49m,\n\u001b[1;32m      4\u001b[0m   agent\u001b[38;5;241m=\u001b[39mcheck_model_agent\n\u001b[1;32m      5\u001b[0m )\n\u001b[1;32m      7\u001b[0m search_model_task \u001b[38;5;241m=\u001b[39m Task(\n\u001b[1;32m      8\u001b[0m   config\u001b[38;5;241m=\u001b[39mtasks_config[\u001b[38;5;124m'\u001b[39m\u001b[38;5;124msearch_model_task\u001b[39m\u001b[38;5;124m'\u001b[39m],\n\u001b[1;32m      9\u001b[0m   agent\u001b[38;5;241m=\u001b[39msearch_model_agent\n\u001b[1;32m     10\u001b[0m )\n\u001b[1;32m     12\u001b[0m extract_info_task \u001b[38;5;241m=\u001b[39m Task(\n\u001b[1;32m     13\u001b[0m   config\u001b[38;5;241m=\u001b[39mtasks_config[\u001b[38;5;124m'\u001b[39m\u001b[38;5;124mextract_info_task\u001b[39m\u001b[38;5;124m'\u001b[39m],\n\u001b[1;32m     14\u001b[0m   agent\u001b[38;5;241m=\u001b[39mextract_info_agent\n\u001b[1;32m     15\u001b[0m )\n",
      "\u001b[0;31mKeyError\u001b[0m: 'check_model_task'"
     ]
    }
   ],
   "source": [
    "# Creating Tasks\n",
    "check_model_task = Task(\n",
    "  config=tasks_config['check_model_task'],\n",
    "  agent=check_model_agent\n",
    ")\n",
    "\n",
    "search_model_task = Task(\n",
    "  config=tasks_config['search_model_task'],\n",
    "  agent=search_model_agent\n",
    ")\n",
    "\n",
    "extract_info_task = Task(\n",
    "  config=tasks_config['extract_info_task'],\n",
    "  agent=extract_info_agent\n",
    ")\n",
    "\n",
    "process_info_task = Task(\n",
    "  config=tasks_config['process_info_task'],\n",
    "  agent=process_info_agent\n",
    ")\n",
    "\n",
    "solution_design_task = Task(\n",
    "  config=tasks_config['solution_design_task'],\n",
    "  agent=solution_design_agent\n",
    ")"
   ]
  },
  {
   "cell_type": "code",
   "execution_count": 52,
   "metadata": {},
   "outputs": [
    {
     "name": "stderr",
     "output_type": "stream",
     "text": [
      "Overriding of current TracerProvider is not allowed\n",
      "Overriding of current TracerProvider is not allowed\n",
      "Overriding of current TracerProvider is not allowed\n",
      "Overriding of current TracerProvider is not allowed\n"
     ]
    }
   ],
   "source": [
    "check_model_crew = Crew(agents = [check_model_agent], tasks = [check_model_task], verbose = True)\n",
    "search_model_crew = Crew(agents = [search_model_agent], tasks = [search_model_task], verbose = True)\n",
    "extract_info_crew = Crew(agents = [extract_info_agent], tasks = [extract_info_task], verbose = True)\n",
    "process_info_crew = Crew(agents = [process_info_agent], tasks = [process_info_task], verbose = True)\n",
    "solution_design_crew = Crew(agents = [solution_design_agent], tasks = [solution_design_task], verbose = True)"
   ]
  },
  {
   "cell_type": "markdown",
   "metadata": {},
   "source": [
    "#### Flow"
   ]
  },
  {
   "cell_type": "code",
   "execution_count": null,
   "metadata": {},
   "outputs": [],
   "source": []
  },
  {
   "cell_type": "code",
   "execution_count": null,
   "metadata": {},
   "outputs": [],
   "source": [
    "import nest_asyncio\n",
    "nest_asyncio.apply()\n",
    "\n",
    "from crewai import Flow\n",
    "from crewai.flow.flow import listen, start\n",
    "\n",
    "class dbtChatFlow(Flow):\n",
    "    @start()\n",
    "    def interpret_prompt(self):\n",
    "        request = self.state[\"request\"]\n",
    "        interpretation = interpretation_crew.kickoff(inputs = {'request': request})\n",
    "        self.state[\"interpretation\"] = interpretation\n",
    "        return interpretation\n",
    "\n",
    "    @listen(interpret_prompt)\n",
    "    def evaluate_interpretation(self):\n",
    "        request = self.state[\"request\"]\n",
    "        interpretation = self.state.get(\"interpretation\")\n",
    "        evaluation = evaluation_crew.kickoff(inputs = {'request': request, \"interpretation\": interpretation})\n",
    "        self.state[\"evaluation\"] = evaluation\n",
    "        return evaluation\n",
    "    \n",
    "    @listen(evaluate_interpretation)\n",
    "    def retrieve_general_context_for_lineage_calculation(self):\n",
    "        request = self.state[\"request\"]\n",
    "        interpretation = self.state.get(\"interpretation\")\n",
    "        vectorstore = self.state[\"vectorstore\"]\n",
    "        embedding_function = self.state[\"embedding_function\"]\n",
    "        retriever = EnhancedRetriever(vectorstore = vectorstore, embedding_function= embedding_function)\n",
    "        retriever_input = \"\"\"\n",
    "            USER REQUEST: {request}\n",
    "            REQUEST FINALITY: {interpretation}\n",
    "        \"\"\"\n",
    "        retrieved_context, retrieved_documents = retriever.retrieve(retriever_input)\n",
    "        retrieved_context = \"\\n\".join([doc.page_content for doc in retrieved_documents if hasattr(doc, 'page_content')])\n",
    "        self.state[\"retrieved_context\"] = retrieved_context\n",
    "        return retrieved_context\n",
    "\n",
    "    @listen(retrieve_general_context_for_lineage_calculation)\n",
    "    def get_lineage(self):\n",
    "        request = self.state[\"request\"]\n",
    "        evaluation = self.state.get(\"evaluation\")\n",
    "        \n",
    "        retrieved_context = self.state.get(\"retrieved_context\")\n",
    "        lineage_analysis = lineage_crew.kickoff(inputs = {'request': request, 'evaluation': str(evaluation), 'retrieved_context':retrieved_context})\n",
    "        json_output = lineage_analysis.raw.replace(\"```json\", \"\").replace(\"```\", \"\").strip()\n",
    "        self.state[\"lineage_analysis\"] = eval(json_output)\n",
    "        return eval(json_output)\n",
    "    \n",
    "    @listen(get_lineage)\n",
    "    def get_lineage_documents(self):\n",
    "        lineage_analysis = self.state.get(\"lineage_analysis\")\n",
    "        vectorstore = self.state[\"vectorstore\"]\n",
    "        dbt_repo_knowledge_df = self.state[\"dbt_repo_knowledge_df\"]\n",
    "\n",
    "        model_name = lineage_analysis.get(\"model\")\n",
    "        scope = lineage_analysis.get(\"scope\", \"\").upper()\n",
    "\n",
    "        lineage_df = create_rag_db.plot_dbt_lineage(dbt_repo_knowledge_df)\n",
    "        affected_models = llm_chain_tools.get_affected_models(lineage_df, model_name)\n",
    "\n",
    "        if scope == \"UP\":\n",
    "            filtered_models = affected_models[\"upstream\"]\n",
    "        elif scope == \"DOWN\":\n",
    "            filtered_models = affected_models[\"downstream\"]\n",
    "        elif scope == \"ALL\":\n",
    "            filtered_models = affected_models[\"upstream\"] + affected_models[\"downstream\"]\n",
    "        filtered_models = list(set(f\"{model}.sql\" for model in filtered_models + [model_name]))\n",
    "        \n",
    "        documents = llm_chain_tools.extract_documents_from_vectorstore(vectorstore)\n",
    "        lineage_documents = llm_chain_tools.select_documents(documents, filtered_models)\n",
    "        self.state[\"lineage_documents\"] = lineage_documents\n",
    "        return lineage_documents\n",
    "\n",
    "    @listen(get_lineage_documents)\n",
    "    def retrieve_lineage_context(self):\n",
    "        lineage_documents = self.state.get(\"lineage_documents\")\n",
    "        embedding_function = self.state[\"embedding_function\"]\n",
    "        request = self.state[\"request\"]\n",
    "        interpretation = self.state.get(\"interpretation\")\n",
    "        evaluation = self.state.get(\"evaluation\")\n",
    "\n",
    "        retriever_documents = lineage_documents[\"retriever_documents\"]\n",
    "        csv_sources_documents = lineage_documents[\"csv_sources_documents\"]\n",
    "        yml_project_documents = lineage_documents[\"yml_project_documents\"]\n",
    "\n",
    "        # Create a new vectorstore with the filtered documents\n",
    "        new_vectorstore = Chroma.from_documents(retriever_documents, embedding_function)\n",
    "        \n",
    "        # Adjusted retriever\n",
    "        new_retriever = EnhancedRetriever(vectorstore = new_vectorstore, embedding_function = embedding_function)\n",
    "        retriever_input = \"\"\"\n",
    "            USER REQUEST: {request}\n",
    "            REQUEST FINALITY: {interpretation}\n",
    "            DBT EXPERT DEEP EVALUATION: {evaluation}\n",
    "        \"\"\"\n",
    "        retrieved_context, retrieved_documents = new_retriever.retrieve(retriever_input)\n",
    "        combined_documents =  yml_project_documents + retrieved_documents\n",
    "\n",
    "        retrieved_context = \"\\n\".join([doc.page_content for doc in combined_documents if hasattr(doc, 'page_content')])\n",
    "        retrieved_csv_sources_context = \"\\n\".join([doc.page_content for doc in csv_sources_documents if hasattr(doc, 'page_content')])\n",
    "\n",
    "        self.state[\"planning_retrieved_context\"] = retrieved_context\n",
    "        self.state[\"planning_retrieved_csv_sources_context\"] = retrieved_csv_sources_context\n",
    "        return retrieved_context\n",
    "    \n",
    "    @listen(retrieve_lineage_context)\n",
    "    def plan_changes(self):\n",
    "        request = self.state[\"request\"]\n",
    "        evaluation = self.state.get(\"evaluation\")\n",
    "        lineage_analysis = self.state.get(\"lineage_analysis\")\n",
    "        planning_retrieved_context = self.state.get(\"planning_retrieved_context\")\n",
    "        planning_retrieved_csv_sources_context = self.state.get(\"planning_retrieved_csv_sources_context\")\n",
    "\n",
    "        plan = plan_crew.kickoff(inputs = {'request': request, \"evaluation\": str(evaluation), \"lineage_analysis\": str(lineage_analysis), \"retrieved_context\": planning_retrieved_context,  \"retrieved_csv_sources_context\":planning_retrieved_csv_sources_context})\n",
    "        self.state[\"plan\"] = plan\n",
    "        return plan\n",
    "\n",
    "flow = dbtChatFlow()\n",
    "flow.plot()"
   ]
  },
  {
   "cell_type": "code",
   "execution_count": null,
   "metadata": {},
   "outputs": [],
   "source": [
    "user_input = 'Give me all the information about the models related with customers'\n",
    "result = flow.kickoff(inputs={\"request\": user_input, \"dbt_repo_knowledge_df\": dbt_repo_knowledge_df, \"vectorstore\": loaded_vectorstore, \"embedding_function\":langchain_openai_embeddings})\n",
    "Markdown(result.raw)"
   ]
  },
  {
   "cell_type": "markdown",
   "metadata": {},
   "source": [
    "#### Example"
   ]
  },
  {
   "cell_type": "code",
   "execution_count": null,
   "metadata": {},
   "outputs": [],
   "source": [
    "from crewai import Flow\n",
    "from crewai.flow.flow import listen, start, and_, or_, router\n",
    "\n",
    "class SalesPipeline(Flow):\n",
    "    \n",
    "  @start()\n",
    "  def fetch_leads(self):\n",
    "    # Pull our leads from the database\n",
    "    # This is a mock, in a real-world scenario, this is where you would\n",
    "    # fetch leads from a database\n",
    "    leads = [\n",
    "      {\n",
    "        \"lead_data\": {\n",
    "          \"name\": \"João Moura\",\n",
    "          \"job_title\": \"Director of Engineering\",\n",
    "          \"company\": \"Clearbit\",\n",
    "          \"email\": \"joao@clearbit.com\",\n",
    "          \"use_case\": \"Using AI Agent to do better data enrichment.\"\n",
    "        },\n",
    "      },\n",
    "    ]\n",
    "    return leads\n",
    "\n",
    "  @listen(fetch_leads)\n",
    "  def score_leads(self, leads):\n",
    "    scores = lead_scoring_crew.kickoff_for_each(leads)\n",
    "    self.state[\"score_crews_results\"] = scores\n",
    "    return scores\n",
    "\n",
    "  @listen(score_leads)\n",
    "  def store_leads_score(self, scores):\n",
    "    # Here we would store the scores in the database\n",
    "    return scores\n",
    "\n",
    "  @listen(score_leads)\n",
    "  def filter_leads(self, scores):\n",
    "    return [score for score in scores if score['lead_score'].score > 70]\n",
    "\n",
    "  @listen(and_(filter_leads, store_leads_score))\n",
    "  def log_leads(self, leads):\n",
    "    print(f\"Leads: {leads}\")\n",
    "\n",
    "  @router(filter_leads, paths=[\"high\", \"medium\", \"low\"])\n",
    "  def count_leads(self, scores):\n",
    "    if len(scores) > 10:\n",
    "      return 'high'\n",
    "    elif len(scores) > 5:\n",
    "      return 'medium'\n",
    "    else:\n",
    "      return 'low'\n",
    "\n",
    "  @listen('high')\n",
    "  def store_in_salesforce(self, leads):\n",
    "    return leads\n",
    "\n",
    "  @listen('medium')\n",
    "  def send_to_sales_team(self, leads):\n",
    "    return leads\n",
    "\n",
    "  @listen('low')\n",
    "  def write_email(self, leads):\n",
    "    scored_leads = [lead.to_dict() for lead in leads]\n",
    "    emails = email_writing_crew.kickoff_for_each(scored_leads)\n",
    "    return emails\n",
    "\n",
    "  @listen(write_email)\n",
    "  def send_email(self, emails):\n",
    "    # Here we would send the emails to the leads\n",
    "    return emails"
   ]
  }
 ],
 "metadata": {
  "kernelspec": {
   "display_name": "rag-env",
   "language": "python",
   "name": "python3"
  },
  "language_info": {
   "codemirror_mode": {
    "name": "ipython",
    "version": 3
   },
   "file_extension": ".py",
   "mimetype": "text/x-python",
   "name": "python",
   "nbconvert_exporter": "python",
   "pygments_lexer": "ipython3",
   "version": "3.10.16"
  }
 },
 "nbformat": 4,
 "nbformat_minor": 2
}
